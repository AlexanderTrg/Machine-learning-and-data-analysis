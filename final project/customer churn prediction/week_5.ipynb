{
 "cells": [
  {
   "cell_type": "markdown",
   "metadata": {},
   "source": [
    "# Peer-graded Assignment: Эксперименты с моделью\n",
    "\n",
    "На прошлой неделе вы поучаствовали в соревновании на kaggle и, наверняка, большинство успешно справилось с прохождением baseline, а значит пора двигаться дальше - заняться оптимизацией модели, провести серию экспериментов и построить сильное финальное решения.\n",
    "\n",
    "В этом задании вам нужно провести ряд эскпериментов, оценить качество полученных в процессе экспериментирования моделей и выбрать лучшее решение. "
   ]
  },
  {
   "cell_type": "markdown",
   "metadata": {},
   "source": [
    "Задание будет оцениваться на основании загруженного jupyther notebook и развернутых ответов на поставленные вопросы."
   ]
  },
  {
   "cell_type": "code",
   "execution_count": 146,
   "metadata": {},
   "outputs": [
    {
     "name": "stdout",
     "output_type": "stream",
     "text": [
      "Populating the interactive namespace from numpy and matplotlib\n"
     ]
    }
   ],
   "source": [
    "import pandas as pd\n",
    "import numpy as np\n",
    "import matplotlib as plt\n",
    "import seaborn as sns\n",
    "from sklearn.model_selection import train_test_split, learning_curve, GridSearchCV\n",
    "from sklearn.linear_model import Lasso\n",
    "from sklearn.feature_selection import SelectFromModel\n",
    "from sklearn import preprocessing, manifold\n",
    "from sklearn.preprocessing import StandardScaler\n",
    "from sklearn.metrics import average_precision_score, roc_auc_score\n",
    "import xgboost as xgb\n",
    "import lightgbm as lgb\n",
    "from scipy.stats import ttest_rel\n",
    "import statsmodels\n",
    "import statsmodels.api as sm\n",
    "from sklearn import ensemble, linear_model,model_selection, metrics\n",
    "from sklearn.model_selection import KFold, cross_val_score\n",
    "from sklearn.svm import LinearSVC\n",
    "\n",
    "import warnings\n",
    "warnings.filterwarnings('ignore')\n",
    "%pylab inline"
   ]
  },
  {
   "cell_type": "code",
   "execution_count": 2,
   "metadata": {},
   "outputs": [],
   "source": [
    "def get_data():\n",
    "    X = pd.read_csv('orange_small_churn_data.txt')\n",
    "    Y = pd.read_csv('orange_small_churn_labels.txt',header=None)\n",
    "    Y.rename(columns={0: 'label'},inplace=True)\n",
    "    churn_test = pd.read_csv('orange_small_churn_test_data.csv').drop(['ID'],axis = 1)\n",
    "    return (X,Y,churn_test)"
   ]
  },
  {
   "cell_type": "code",
   "execution_count": 3,
   "metadata": {},
   "outputs": [],
   "source": [
    "def labelEncoder(data):\n",
    "    data.apply(str)\n",
    "    le = preprocessing.LabelEncoder()\n",
    "    for m in range(data.shape[1]):\n",
    "        le.fit(data.iloc[:,m])\n",
    "        data.iloc[:,m] = le.transform(data.iloc[:,m])        \n",
    "    return data"
   ]
  },
  {
   "cell_type": "code",
   "execution_count": 4,
   "metadata": {},
   "outputs": [],
   "source": [
    "def prepare_data(data):\n",
    "    num = data.iloc[:, 1:191]\n",
    "    cat = data.iloc[:, 191:]\n",
    "    num.dropna(axis=1, thresh=num.shape[0]*0.05, subset=None, inplace=True)\n",
    "    cat.dropna(axis=1, thresh=num.shape[0]*0.05, subset=None, inplace=True)\n",
    "    num.fillna(num.mean(),inplace=True)\n",
    "    cat.fillna('NO', inplace=True)\n",
    "    data_new = pd.concat([num,labelEncoder(cat)],axis=1)\n",
    "    return data_new"
   ]
  },
  {
   "cell_type": "code",
   "execution_count": 83,
   "metadata": {},
   "outputs": [],
   "source": [
    "def prepare_data_zero(data):\n",
    "    num = data.iloc[:, 1:191]\n",
    "    cat = data.iloc[:, 191:]\n",
    "    num.dropna(axis=1, thresh=num.shape[0]*0.05, subset=None, inplace=True)\n",
    "    cat.dropna(axis=1, thresh=num.shape[0]*0.05, subset=None, inplace=True)\n",
    "    num.fillna(0,inplace=True)\n",
    "    cat.fillna('NO', inplace=True)\n",
    "    data_new = pd.concat([num,labelEncoder(cat)],axis=1)\n",
    "    return data_new"
   ]
  },
  {
   "cell_type": "code",
   "execution_count": 116,
   "metadata": {},
   "outputs": [],
   "source": [
    "def prepare_data_cat_top(data):\n",
    "    num = data.iloc[:, 1:191]\n",
    "    cat = data.iloc[:, 191:]\n",
    "    num.dropna(axis=1, thresh=num.shape[0]*0.05, subset=None, inplace=True)\n",
    "    cat.dropna(axis=1, thresh=num.shape[0]*0.05, subset=None, inplace=True)\n",
    "    num.fillna(num.mean(),inplace=True)\n",
    "    for i in range(len(cat.columns.values)):\n",
    "        cat.fillna(cat.iloc[:,i].value_counts().index[0], inplace=True)\n",
    "    data_new = pd.concat([num,labelEncoder(cat)],axis=1)\n",
    "    return data_new"
   ]
  },
  {
   "cell_type": "code",
   "execution_count": 5,
   "metadata": {},
   "outputs": [],
   "source": [
    "def result(estimator, X, Y):\n",
    "    score = ['roc_auc', 'precision', 'recall', 'f1_weighted']\n",
    "    skf = model_selection.StratifiedKFold(n_splits=5, shuffle=True)\n",
    "    for i in score:\n",
    "        res = model_selection.cross_val_score(estimator, X, Y, scoring=i, cv = skf)\n",
    "        print(\"Scores for metric %s:\" % i)\n",
    "        print(res)\n",
    "        print(res.mean())\n",
    "    print('==============================================')"
   ]
  },
  {
   "cell_type": "code",
   "execution_count": 40,
   "metadata": {},
   "outputs": [],
   "source": [
    "def undersampling_X (X, y, ratio):\n",
    "    data = pd.concat([X,y],axis=1)\n",
    "    Churn = data[data['label'] == 1]\n",
    "    NoChurn = data[data['label'] == -1]\n",
    "    size_churn = len(Churn)\n",
    "    size_nochurn = len(NoChurn)\n",
    "    size_for_new_data = np.random.randint(0, size_nochurn , size_churn * ratio)\n",
    "    new_date = pd.concat([Churn, NoChurn.iloc[size_for_new_data,:]])\n",
    "    return new_date.iloc[:,:77]"
   ]
  },
  {
   "cell_type": "code",
   "execution_count": 41,
   "metadata": {},
   "outputs": [],
   "source": [
    "def undersampling_y (X, y, ratio):\n",
    "    data = pd.concat([X,y],axis=1)\n",
    "    Churn = data[data['label'] == 1]\n",
    "    NoChurn = data[data['label'] == -1]\n",
    "    size_churn = len(Churn)\n",
    "    size_nochurn = len(NoChurn)\n",
    "    size_for_new_data = np.random.randint(0, size_nochurn , size_churn * ratio)\n",
    "    new_date = pd.concat([Churn, NoChurn.iloc[size_for_new_data,:]])\n",
    "    return new_date.iloc[:,77:]"
   ]
  },
  {
   "cell_type": "code",
   "execution_count": 7,
   "metadata": {},
   "outputs": [],
   "source": [
    "def data_for_baseline (X,Y):\n",
    "    X_train, X_test, y_train, y_test = train_test_split(X,Y, test_size=0.1, random_state=123)\n",
    "    return X_train, X_test, y_train, y_test "
   ]
  },
  {
   "cell_type": "code",
   "execution_count": 93,
   "metadata": {},
   "outputs": [],
   "source": [
    "X,y,_ = get_data()"
   ]
  },
  {
   "cell_type": "code",
   "execution_count": 78,
   "metadata": {},
   "outputs": [],
   "source": [
    "X = prepare_data(X)"
   ]
  },
  {
   "cell_type": "markdown",
   "metadata": {},
   "source": [
    "## Инструкции"
   ]
  },
  {
   "cell_type": "markdown",
   "metadata": {},
   "source": [
    "1\\. Начнем с простого. Давайте оценим как много объектов действительно нужно для построения качественной модели. Для обучения доступна достаточно большая выборка и может так оказаться, что начиная с некоторого момента рост размера обучающей выборки перестает влиять на качество модели. Постройте кривые обучения, обучая модель на выборках разного размера начиная с небольшого количество объектов в обучающей выборке и постепенно наращивая её размер с некоторым шагом. Обратите внимание на `sklearn.model_selection.learning_curve`"
   ]
  },
  {
   "cell_type": "code",
   "execution_count": 45,
   "metadata": {},
   "outputs": [
    {
     "data": {
      "image/png": "[encoded data removed]",
      "text/plain": [
       "<Figure size 432x288 with 1 Axes>"
      ]
     },
     "metadata": {
      "needs_background": "light"
     },
     "output_type": "display_data"
    }
   ],
   "source": [
    "def plot_learning_curve(estimator, X, y):\n",
    "    plt.figure()\n",
    "    plt.title(\"learning_curve\")\n",
    "    plt.xlabel(\"data size\")\n",
    "    plt.ylabel(\"score\")\n",
    "    train_sizes, train_scores, test_scores = learning_curve(estimator, X, y, cv=5, train_sizes=np.linspace(0.1, 1, 25), \n",
    "                                                                scoring='roc_auc')\n",
    "    train_scores_mean = np.mean(train_scores, axis=1)\n",
    "    train_scores_std = np.std(train_scores, axis=1)\n",
    "    test_scores_mean = np.mean(test_scores, axis=1)\n",
    "    test_scores_std = np.std(test_scores, axis=1)\n",
    "    plt.fill_between(train_sizes, train_scores_mean - train_scores_std,\n",
    "                     train_scores_mean + train_scores_std, alpha=0.1,\n",
    "                     color=\"r\")\n",
    "    plt.fill_between(train_sizes, test_scores_mean - test_scores_std,\n",
    "                     test_scores_mean + test_scores_std, alpha=0.1, \n",
    "                     color=\"g\")\n",
    "    plt.plot(train_sizes, train_scores_mean, 'o-', color=\"r\",\n",
    "             label=\"Training score\")\n",
    "    plt.plot(train_sizes, test_scores_mean, 'o-', color=\"g\",\n",
    "             label=\"Cross-validation score\")\n",
    "    plt.legend(loc=\"best\")\n",
    "    plt.grid()\n",
    "    plt.show()\n",
    "\n",
    "estimator = xgb.XGBClassifier(n_estimators = 30, max_depth=3)\n",
    "plot_learning_curve(estimator, X, y)"
   ]
  },
  {
   "cell_type": "markdown",
   "metadata": {},
   "source": [
    "**буду юзать все выборку, т.к. кач-во на cv растет**"
   ]
  },
  {
   "cell_type": "markdown",
   "metadata": {},
   "source": [
    "2\\. Часто несбалансированные по классам выборки приводят к различным проблемам при обучении моделей. Давайте попробуем по-разному обработать выборку, поиграть с распределением объектов по классам и сделать выводы о том, как соотношение классов влияет на качество модели."
   ]
  },
  {
   "cell_type": "markdown",
   "metadata": {},
   "source": [
    "2.1\\. Задайте веса объектам так, чтобы соотношение классов с учетом весов объектов изменилось. Попробуйте не менее трёх различных вариантов весов. Меняются ли результаты классификации? Как это сказывается на качестве модели? Какой вариант выглядит наиболее оптимальным с точки зрения качества?"
   ]
  },
  {
   "cell_type": "markdown",
   "metadata": {},
   "source": [
    "**понятно что баланс почти не влияет на roc auc. посмотрим на другие метрики и найдем баланс. Будем увеличивать вес для класса 1 - отток с 1 до 16 с шагом 5**\n"
   ]
  },
  {
   "cell_type": "code",
   "execution_count": 67,
   "metadata": {},
   "outputs": [
    {
     "data": {
      "image/png": "[encoded data removed]",
      "text/plain": [
       "<Figure size 432x288 with 1 Axes>"
      ]
     },
     "metadata": {
      "needs_background": "light"
     },
     "output_type": "display_data"
    }
   ],
   "source": [
    "X_train, X_test, y_train, y_test = data_for_baseline(X,y)\n",
    "weights = [1,6,11,16]\n",
    "precision, recall, roc_auc, f1 = [], [], [], []\n",
    "for i in weights:\n",
    "    weight_list = list(map(lambda x: i if x == 1 else 1, y_train.values))\n",
    "    estimator.fit(X_train, y_train, sample_weight = weight_list)\n",
    "    predict = estimator.predict(X_test)\n",
    "    score = estimator.predict_proba(X_test)[:,1]\n",
    "    precision.append(metrics.precision_score(y_test, predict))\n",
    "    recall.append(metrics.recall_score(y_test,predict))\n",
    "    roc_auc.append(metrics.roc_auc_score(y_test, score))\n",
    "    f1.append(metrics.f1_score(y_test, predict))\n",
    "\n",
    "plt.figure()\n",
    "plt.xlabel(\"Weights\")\n",
    "plt.ylabel(\"Score\")\n",
    "plt.plot(weights, precision, 'o-', color=\"r\", label = \"precision\")\n",
    "plt.plot(weights, recall, 'o-', color=\"g\", label = \"recall\")\n",
    "plt.plot(weights, roc_auc, 'o-', color=\"b\", label = \"roc_auc\")\n",
    "plt.plot(weights, f1, 'o-', color=\"y\", label = \"f1\")\n",
    "plt.legend(loc=\"best\")\n",
    "plt.show()"
   ]
  },
  {
   "cell_type": "markdown",
   "metadata": {},
   "source": [
    "**как видим , увеличение веса класса отток (-1) до 11 дает лучший скор** "
   ]
  },
  {
   "cell_type": "markdown",
   "metadata": {},
   "source": [
    "2.2\\. Примените к выборке технологию undersampling: для этого нужно убрать из обучения некоторое количество объектов большего класса таким образом, чтобы соотношение классов изменилось. Попробуйте не менее трёх различных вариантов undersampling (варианты могут отличаться как по количество отфильтрованных объектов, так и по принципу выборка объектов для отсеивания из выборки). Меняются ли результаты классификации? Как это сказывается на качестве модели? Какой вариант выглядит наиболее оптимальным с точки зрения качества?"
   ]
  },
  {
   "cell_type": "code",
   "execution_count": 46,
   "metadata": {},
   "outputs": [],
   "source": [
    "estimator = xgb.XGBClassifier(n_estimators = 30, max_depth=3)"
   ]
  },
  {
   "cell_type": "code",
   "execution_count": 82,
   "metadata": {},
   "outputs": [
    {
     "data": {
      "image/png": "[encoded data removed]",
      "text/plain": [
       "<Figure size 432x288 with 1 Axes>"
      ]
     },
     "metadata": {
      "needs_background": "light"
     },
     "output_type": "display_data"
    }
   ],
   "source": [
    "precision, recall, roc_auc, f1 = [], [], [], []\n",
    "ratio = [1,3,5,7,9,11]\n",
    "for i in size:\n",
    "    data = undersampling_X(X,y,i)\n",
    "    label = undersampling_y(X,y,i)\n",
    "    X_train, X_test, y_train, y_test = data_for_baseline(data,label)\n",
    "    estimator.fit(X_train, y_train)\n",
    "    predict = estimator.predict(X_test)\n",
    "    score = estimator.predict_proba(X_test)[:,1]\n",
    "    precision.append(metrics.precision_score(y_test, predict))\n",
    "    recall.append(metrics.recall_score(y_test,predict))\n",
    "    roc_auc.append(metrics.roc_auc_score(y_test, score))\n",
    "    f1.append(metrics.f1_score(y_test, predict))\n",
    "\n",
    "plt.figure()\n",
    "plt.xlabel(\"size\")\n",
    "plt.ylabel(\"Score\")\n",
    "plt.plot(ratio, precision, 'o-', color=\"r\", label = \"precision\")\n",
    "plt.plot(ratio, recall, 'o-', color=\"g\", label = \"recall\")\n",
    "plt.plot(ratio, roc_auc, 'o-', color=\"b\", label = \"roc_auc\")\n",
    "plt.plot(ratio, f1, 'o-', color=\"y\", label = \"f1\")\n",
    "plt.legend(loc=\"best\")\n",
    "plt.show()"
   ]
  },
  {
   "cell_type": "markdown",
   "metadata": {},
   "source": [
    "**видно что рок аук ведет себя отлично, у других ж метрик скор пояти обнуляется при увеличении соотношения классов - напомни , что первоначальное соотношение примерно 1 к 13. Думаю лучше юзать первую модель 2.1**"
   ]
  },
  {
   "cell_type": "markdown",
   "metadata": {},
   "source": [
    "3\\. Теперь перейдем к работе с признаками. Ранее вы реализовали несколько стратегий для обработки пропущенных значений. Сравните эти стратегии между собой с помощью оценки качества моделей кросс-валидации, построенных на датасетах с использованием различных стратегий. Как обработка пропущенных значений сказывается на качестве модели? Какой вариант выглядит наиболее оптимальным с точки зрения качества?"
   ]
  },
  {
   "cell_type": "code",
   "execution_count": 92,
   "metadata": {},
   "outputs": [
    {
     "name": "stdout",
     "output_type": "stream",
     "text": [
      "[0.72367569 0.72097186 0.73500962 0.71709849 0.73507133]\n",
      "0.7263653969584494\n",
      "==============================================\n",
      "[0.72476501 0.71840194 0.73775691 0.71663083 0.7296949 ]\n",
      "0.7254499177773104\n"
     ]
    }
   ],
   "source": [
    "X,y,_ = get_data()\n",
    "X = prepare_data(X)\n",
    "skf = model_selection.StratifiedKFold(n_splits=5, shuffle=True, random_state=122)\n",
    "\n",
    "res = model_selection.cross_val_score(estimator, X, y, scoring='roc_auc', cv = skf)\n",
    "print(res)\n",
    "print(res.mean())\n",
    "\n",
    "print('==============================================')\n",
    "\n",
    "\n",
    "X,y,_ = get_data()\n",
    "X = prepare_data_zero(X)\n",
    "res = model_selection.cross_val_score(estimator, X, y, scoring='roc_auc', cv = skf)\n",
    "print(res)\n",
    "print(res.mean())"
   ]
  },
  {
   "cell_type": "markdown",
   "metadata": {},
   "source": [
    "**средними лучше, хоть и не сильно**"
   ]
  },
  {
   "cell_type": "markdown",
   "metadata": {},
   "source": [
    "4\\. Также вы уже реализовали несколько стратегий для обработки категориальных признаков. Сравните эти стратегии между собой с помощью оценки качества моделей по кросс-валидации, построенных на датасетах с использованием различных стратегий. Как обработка категориальных признаков сказывается на качестве модели? Какой вариант выглядит наиболее оптимальным с точки зрения качества?"
   ]
  },
  {
   "cell_type": "code",
   "execution_count": 117,
   "metadata": {},
   "outputs": [
    {
     "name": "stdout",
     "output_type": "stream",
     "text": [
      "[0.72367569 0.72097186 0.73500962 0.71709849 0.73507133]\n",
      "0.7263653969584494\n",
      "==============================================\n",
      "[0.72309228 0.72097186 0.73496377 0.7173191  0.73529069]\n",
      "0.7263275395652369\n"
     ]
    }
   ],
   "source": [
    "X,y,_ = get_data()\n",
    "X = prepare_data(X)\n",
    "skf = model_selection.StratifiedKFold(n_splits=5, shuffle=True, random_state=122)\n",
    "\n",
    "res = model_selection.cross_val_score(estimator, X, y, scoring='roc_auc', cv = skf)\n",
    "print(res)\n",
    "print(res.mean())\n",
    "\n",
    "print('==============================================')\n",
    "\n",
    "\n",
    "X,y,_ = get_data()\n",
    "X = prepare_data_cat_top(X)\n",
    "res = model_selection.cross_val_score(estimator, X, y, scoring='roc_auc', cv = skf)\n",
    "print(res)\n",
    "print(res.mean())"
   ]
  },
  {
   "cell_type": "markdown",
   "metadata": {},
   "source": [
    "**one hot использовать не стал в силу большого кол-ва значений. label и замена топом показали пркатически одинаковые рез-ты**"
   ]
  },
  {
   "cell_type": "markdown",
   "metadata": {},
   "source": [
    "5\\. Все ли признаки оказались полезными для построения моделей? Проведите процедуру отбора признаков, попробуйте разные варианты отбора (обратите внимание на модуль `sklearn.feature_selection`). Например, можно выбрасывать случайные признаки или строить отбор на основе l1-регуляризации - отфильтровать из обучения признаки, которые получат нулевой вес при построении регрессии с l1-регуляризацией (`sklearn.linear_model.Lasso`). И всегда можно придумать что-то своё=) Попробуйте как минимум 2 различные стратегии, сравните результаты. Помог ли отбор признаков улучшить качество модели? Поясните свой ответ."
   ]
  },
  {
   "cell_type": "code",
   "execution_count": 122,
   "metadata": {},
   "outputs": [
    {
     "name": "stdout",
     "output_type": "stream",
     "text": [
      "(40000, 26)\n",
      "[0.72418239 0.72566413 0.7340617  0.71966114 0.73263194]\n",
      "0.7272402593807155\n",
      "==============================================\n",
      "(40000, 49)\n",
      "[0.72242727 0.71914514 0.73356022 0.71683464 0.73475679]\n",
      "0.7253448120349021\n"
     ]
    }
   ],
   "source": [
    "X,y,_ = get_data()\n",
    "X = prepare_data(X)\n",
    "l1 = Lasso(alpha = 0.01).fit(X, y)\n",
    "model = SelectFromModel(l1, prefit=True)\n",
    "X_new = model.transform(X)\n",
    "print (X_new.shape)\n",
    "\n",
    "res = model_selection.cross_val_score(estimator, X_new, y, scoring='roc_auc', cv = skf)\n",
    "print(res)\n",
    "print(res.mean())\n",
    "print('==============================================')\n",
    "\n",
    "\n",
    "lsvc = LinearSVC(C = 0.25, penalty = \"l1\", dual=False).fit(X, y)\n",
    "model = SelectFromModel(lsvc, prefit=True)\n",
    "X_new = model.transform(X)\n",
    "print(X_new.shape)\n",
    "res = model_selection.cross_val_score(estimator, X_new, y, scoring='roc_auc', cv = skf)\n",
    "print(res)\n",
    "print(res.mean())\n"
   ]
  },
  {
   "cell_type": "markdown",
   "metadata": {},
   "source": [
    "**да немного помогло. при этом сильно уменьшился датасет**"
   ]
  },
  {
   "cell_type": "markdown",
   "metadata": {},
   "source": [
    "6\\. Подберите оптимальные параметры модели. Обратите внимание, что в зависимости от того, как вы обработали исходные данные, сделали ли балансировку классов, сколько объектов оставили в обучающей выборке и др. оптимальные значения параметров могут меняться. Возьмите наилучшее из ваших решений на текущий момент и проведите процедуру подбора параметров модели (обратите внимание на `sklearn.model_selection.GridSearchCV`) Как подбор параметров повлиял на качество модели?"
   ]
  },
  {
   "cell_type": "code",
   "execution_count": 124,
   "metadata": {},
   "outputs": [
    {
     "name": "stdout",
     "output_type": "stream",
     "text": [
      "XGBClassifier(base_score=0.5, booster='gbtree', colsample_bylevel=1,\n",
      "              colsample_bynode=1, colsample_bytree=1, gamma=0,\n",
      "              learning_rate=0.1, max_delta_step=0, max_depth=4,\n",
      "              min_child_weight=1, missing=None, n_estimators=60, n_jobs=1,\n",
      "              nthread=None, objective='binary:logistic', random_state=0,\n",
      "              reg_alpha=0, reg_lambda=1, sample_weight=11, scale_pos_weight=1,\n",
      "              seed=None, silent=None, subsample=1, verbosity=1)\n"
     ]
    }
   ],
   "source": [
    "X,y,_ = get_data()\n",
    "X = prepare_data(X)\n",
    "l1 = Lasso(alpha = 0.01).fit(X, y)\n",
    "model = SelectFromModel(l1, prefit=True)\n",
    "X_new = model.transform(X)\n",
    "estimator = xgb.XGBClassifier(sample_weight = 11)\n",
    "params = {'max_depth': [3, 4], 'n_estimators': [20, 40, 60]}\n",
    "clf = GridSearchCV(estimator, params, cv = 2)\n",
    "clf.fit(X_new, y)\n",
    "print(clf.best_estimator_)"
   ]
  },
  {
   "cell_type": "code",
   "execution_count": 125,
   "metadata": {},
   "outputs": [
    {
     "name": "stdout",
     "output_type": "stream",
     "text": [
      "[0.72874165 0.72876151 0.73635155 0.72367739 0.73613404]\n",
      "0.7307332276439414\n"
     ]
    }
   ],
   "source": [
    "res = model_selection.cross_val_score(clf, X_new, y, scoring='roc_auc', cv = skf)\n",
    "print(res)\n",
    "print(res.mean())"
   ]
  },
  {
   "cell_type": "markdown",
   "metadata": {},
   "source": [
    "**классификатор улучшился. НО, при бустинге большое число дереверьев ведет к переобуччению, а увеличение глубины к потери кач-ва. При этом испольщование грид серча может натолкнуться на выбросы и сбайнуть. Поэтому следует пройтись используя стат значимость** "
   ]
  },
  {
   "cell_type": "code",
   "execution_count": 127,
   "metadata": {},
   "outputs": [],
   "source": [
    "X,y,_ = get_data()\n",
    "X = prepare_data(X)\n",
    "l1 = Lasso(alpha = 0.01).fit(X, y)\n",
    "model = SelectFromModel(l1, prefit=True)\n",
    "X_new = model.transform(X)\n",
    "x_short, X_test, y_short, y_test = data_for_baseline(X_new,y)"
   ]
  },
  {
   "cell_type": "markdown",
   "metadata": {},
   "source": [
    "**далее чтобы избежать проблем с выбросами, которые повлияют на усреднение метрики. мы для каждого фолда будем проверть кач-ва двух аглорритмов. максимизируя рок аук мы найдем максимальную разницу средних / макс. т статистику. тем самым по итогу определим оптимальное число гипперпараметра.**"
   ]
  },
  {
   "cell_type": "code",
   "execution_count": 130,
   "metadata": {},
   "outputs": [
    {
     "data": {
      "text/plain": [
       "Ttest_relResult(statistic=-9.99794501031107, pvalue=2.0269442955633144e-13)"
      ]
     },
     "execution_count": 130,
     "metadata": {},
     "output_type": "execute_result"
    }
   ],
   "source": [
    "scores_30_trees = np.array([])\n",
    "scores_40_trees = np.array([])\n",
    "for i in range(10):\n",
    "    fold = KFold(n_splits=5, shuffle=True, random_state=i)\n",
    "    scores_30_trees_on_this_split = cross_val_score(\n",
    "                                             estimator=xgb.XGBClassifier(n_estimators=30, sample_weight = 11),\n",
    "                                             X=x_short, y=y_short,\n",
    "                                             cv=fold, scoring='roc_auc')\n",
    "    scores_30_trees = np.append(scores_30_trees,\n",
    "                                 scores_30_trees_on_this_split)\n",
    "    scores_40_trees_on_this_split = cross_val_score(\n",
    "                                            estimator=xgb.XGBClassifier(n_estimators=40, sample_weight = 11),\n",
    "                                            X=x_short, y=y_short,\n",
    "                                            cv=fold, scoring='roc_auc')\n",
    "    scores_40_trees = np.append(scores_40_trees,\n",
    "                                 scores_40_trees_on_this_split)\n",
    "ttest_rel(scores_30_trees, scores_40_trees)"
   ]
  },
  {
   "cell_type": "markdown",
   "metadata": {},
   "source": [
    "40 лучше чем 30. построим график и выберем среднее. это лучше гридсерсча , так как он выбирает единтсвенное лучше число методом перебора. а как мы знаем при множестве экспериментов нужна поправка на мно-ть. в грид серче ее нет, и он мож выброс выцепить"
   ]
  },
  {
   "cell_type": "code",
   "execution_count": 131,
   "metadata": {},
   "outputs": [
    {
     "name": "stdout",
     "output_type": "stream",
     "text": [
      "Populating the interactive namespace from numpy and matplotlib\n"
     ]
    },
    {
     "data": {
      "text/plain": [
       "Text(0, 0.5, 't-statistic')"
      ]
     },
     "execution_count": 131,
     "metadata": {},
     "output_type": "execute_result"
    },
    {
     "data": {
      "image/png": "[encoded data removed]",
      "text/plain": [
       "<Figure size 432x288 with 1 Axes>"
      ]
     },
     "metadata": {
      "needs_background": "light"
     },
     "output_type": "display_data"
    }
   ],
   "source": [
    "%pylab inline\n",
    "t_stats = []\n",
    "n_trees = []\n",
    "for j in range(45, 115, 5):\n",
    "    current_score = np.array([])\n",
    "    for i in range(10):\n",
    "        fold = KFold(n_splits=5, shuffle=True, random_state=i)\n",
    "        scores_on_this_split = cross_val_score(\n",
    "                                      estimator=xgb.XGBClassifier(n_estimators=j, sample_weight = 11),\n",
    "                                      X=x_short, y=y_short,\n",
    "                                      cv=fold, scoring='roc_auc')\n",
    "        current_score = np.append(current_score,\n",
    "                                  scores_on_this_split)\n",
    "    t_stat, p_value = ttest_rel(current_score, scores_40_trees)\n",
    "    t_stats.append(t_stat)\n",
    "    n_trees.append(j)\n",
    "plt.plot(n_trees, t_stats)\n",
    "plt.xlabel('n_estimators')\n",
    "plt.ylabel('t-statistic')"
   ]
  },
  {
   "cell_type": "markdown",
   "metadata": {},
   "source": [
    "**65 -  подходящее число деревьев**"
   ]
  },
  {
   "cell_type": "markdown",
   "metadata": {},
   "source": [
    "7\\. Предложите методику оценки того, какие признаки внесли наибольший вклад в модель (например, это могут быть веса в случае регрессии, а также большое количество моделей реализуют метод `feature_importances_` - оценка важности признаков). На основе предложенной методики проанализируйте, какие признаки внесли больший вклад в модель, а какие меньший?"
   ]
  },
  {
   "cell_type": "markdown",
   "metadata": {
    "collapsed": true
   },
   "source": [
    "отсюда https://stackoverflow.com/questions/37627923/how-to-get-feature-importance-in-xgboost "
   ]
  },
  {
   "cell_type": "code",
   "execution_count": 135,
   "metadata": {},
   "outputs": [],
   "source": [
    "X,y,_ = get_data()\n",
    "X = prepare_data(X) # mean()/label encoding\n",
    "l1 = Lasso(alpha = 0.01).fit(X, y)\n",
    "model = SelectFromModel(l1, prefit=True) # отбор через l1\n",
    "X_new = model.transform(X)\n",
    "estimator=xgb.XGBClassifier(n_estimators=65, max_depth = 4,  sample_weight = 11)\n",
    "estimator.fit(X_new,y)\n",
    "features = estimator.get_booster().get_score(importance_type=\"gain\")"
   ]
  },
  {
   "cell_type": "code",
   "execution_count": 140,
   "metadata": {},
   "outputs": [],
   "source": [
    "import operator"
   ]
  },
  {
   "cell_type": "code",
   "execution_count": 145,
   "metadata": {},
   "outputs": [
    {
     "data": {
      "text/plain": [
       "[('f13', 34.03771227032075),\n",
       " ('f7', 28.63739594194445),\n",
       " ('f24', 17.033200742691484),\n",
       " ('f6', 16.097886194402083),\n",
       " ('f20', 14.210877067264704),\n",
       " ('f22', 13.970566536363636),\n",
       " ('f15', 13.152068261589475),\n",
       " ('f23', 9.477244815517242),\n",
       " ('f5', 7.2950861756875),\n",
       " ('f1', 6.878002468400001),\n",
       " ('f0', 6.46281052),\n",
       " ('f2', 6.39252007),\n",
       " ('f3', 6.309710451333333),\n",
       " ('f18', 6.127223355769231),\n",
       " ('f10', 5.69627926923077),\n",
       " ('f12', 5.603996067736843),\n",
       " ('f21', 5.59671454456),\n",
       " ('f25', 5.44671148137931),\n",
       " ('f4', 5.205968592969642),\n",
       " ('f8', 5.12612654775),\n",
       " ('f19', 5.004801586589745),\n",
       " ('f9', 4.779044086615384),\n",
       " ('f17', 4.68624568375),\n",
       " ('f16', 4.510621144999999),\n",
       " ('f11', 4.296226363684211),\n",
       " ('f14', 3.6959098337999996)]"
      ]
     },
     "execution_count": 145,
     "metadata": {},
     "output_type": "execute_result"
    }
   ],
   "source": [
    "sorted(features.items(), key=operator.itemgetter(1), reverse=True)"
   ]
  },
  {
   "cell_type": "markdown",
   "metadata": {},
   "source": [
    "8\\. Напоследок давайте посмотрим на объекты. На каких объектах достигается наибольшая ошибка классификации? Есть ли межу этими объектами что-то общее? Видны ли какие-либо закономерности? Предположите, почему наибольшая ошибка достигается именно на этих объектах. В данном случае \"наибольшую\" ошибку можно понимать как отнесение объекта с чужому классу с большой долей уверенности (с высокой вероятностью)."
   ]
  },
  {
   "cell_type": "markdown",
   "metadata": {
    "collapsed": true
   },
   "source": [
    "Алгоритм будет ошибаться на выбросах. воспользуюсь tsne"
   ]
  },
  {
   "cell_type": "code",
   "execution_count": null,
   "metadata": {},
   "outputs": [],
   "source": [
    "tsne = manifold.TSNE(n_components = 2, init = 'pca', random_state = 122)\n",
    "data_2d_tsne = tsne.fit_transform(X_new)"
   ]
  },
  {
   "cell_type": "code",
   "execution_count": null,
   "metadata": {},
   "outputs": [],
   "source": [
    "pylab.figure(figsize = (10, 6))\n",
    "pylab.scatter(data_2d_tsne[:, 0], data_2d_tsne[:, 1], c = y.values)"
   ]
  },
  {
   "cell_type": "markdown",
   "metadata": {},
   "source": [
    "**ноутбук не тянет) уже минут 30 считает  - вобщем слудет посмотреть по графику. есть еше вариант воспольщоваться стат модулем OLS и холмом. но для этого мой ноут точно не подойдет**"
   ]
  },
  {
   "cell_type": "markdown",
   "metadata": {},
   "source": [
    "Так же требуется определить порог для ошибок первого и второго родов. Следует понять , что для данного классифатора важнее( спойлер - recall важнее - тоесть ошибка первого рода менее стращна чем второго)"
   ]
  },
  {
   "cell_type": "markdown",
   "metadata": {},
   "source": [
    "9\\. По итогам проведенных экспериментов постройте финальную решение - модель с наилучшим качеством. Укажите, какие преобразования данных, параметры и пр. вы выбрали для построения финальной модели."
   ]
  },
  {
   "cell_type": "code",
   "execution_count": null,
   "metadata": {
    "collapsed": true
   },
   "outputs": [],
   "source": [
    "X,y,_ = get_data()\n",
    "X = prepare_data(X) # mean()/label encoding\n",
    "\n",
    "l1 = Lasso(alpha = 0.01).fit(X, y)\n",
    "model = SelectFromModel(l1, prefit=True) # отбор через l1\n",
    "X_new = model.transform(X)\n",
    "X_train, X_test, y_train, y_test = data_for_baseline(X_new,y)\n",
    "estimator=xgb.XGBClassifier(n_estimators=65, max_depth = 4,  sample_weight = 11)"
   ]
  },
  {
   "cell_type": "code",
   "execution_count": null,
   "metadata": {},
   "outputs": [],
   "source": []
  },
  {
   "cell_type": "markdown",
   "metadata": {},
   "source": [
    "10\\. Подумайте, можно ли еще улучшить модель? Что для этого можно сделать? "
   ]
  },
  {
   "cell_type": "markdown",
   "metadata": {
    "collapsed": true
   },
   "source": [
    "1. найти и удалить выбросы\n",
    "2. подобрать параметры, через стат значимость\n",
    "3. нагенерить новые признаки / больше информации о текущих может помочь"
   ]
  },
  {
   "cell_type": "code",
   "execution_count": null,
   "metadata": {},
   "outputs": [],
   "source": []
  }
 ],
 "metadata": {
  "kernelspec": {
   "display_name": "Python 3",
   "language": "python",
   "name": "python3"
  },
  "language_info": {
   "codemirror_mode": {
    "name": "ipython",
    "version": 3
   },
   "file_extension": ".py",
   "mimetype": "text/x-python",
   "name": "python",
   "nbconvert_exporter": "python",
   "pygments_lexer": "ipython3",
   "version": "3.7.5"
  }
 },
 "nbformat": 4,
 "nbformat_minor": 1
}
