{
 "cells": [
  {
   "cell_type": "markdown",
   "metadata": {},
   "source": [
    "# Оценка потенциального экономического эффекта от внедрения полученного решения\n",
    "\n"
   ]
  },
  {
   "cell_type": "markdown",
   "metadata": {},
   "source": [
    "Задание будет оцениваться на основании загруженного jupyther notebook и развернутых ответов на поставленные вопросы."
   ]
  },
  {
   "cell_type": "code",
   "execution_count": 33,
   "metadata": {},
   "outputs": [
    {
     "name": "stdout",
     "output_type": "stream",
     "text": [
      "Populating the interactive namespace from numpy and matplotlib\n"
     ]
    }
   ],
   "source": [
    "import pandas as pd\n",
    "import numpy as np\n",
    "import matplotlib as plt\n",
    "import seaborn as sns\n",
    "from sklearn.model_selection import train_test_split, learning_curve, GridSearchCV\n",
    "from sklearn.linear_model import Lasso\n",
    "from sklearn.feature_selection import SelectFromModel\n",
    "from sklearn import preprocessing, manifold\n",
    "from sklearn.preprocessing import StandardScaler\n",
    "from sklearn.metrics import average_precision_score, roc_auc_score\n",
    "import xgboost as xgb\n",
    "import lightgbm as lgb\n",
    "from scipy.stats import ttest_rel\n",
    "import statsmodels\n",
    "import statsmodels.api as sm\n",
    "from sklearn import ensemble, linear_model,model_selection, metrics\n",
    "from sklearn.model_selection import KFold, cross_val_score\n",
    "from sklearn.svm import LinearSVC\n",
    "\n",
    "import warnings\n",
    "warnings.filterwarnings('ignore')\n",
    "%pylab inline"
   ]
  },
  {
   "cell_type": "code",
   "execution_count": 34,
   "metadata": {},
   "outputs": [],
   "source": [
    "def get_data():\n",
    "    X = pd.read_csv('orange_small_churn_data.txt')\n",
    "    Y = pd.read_csv('orange_small_churn_labels.txt',header=None)\n",
    "    Y.rename(columns={0: 'label'},inplace=True)\n",
    "    churn_test = pd.read_csv('orange_small_churn_test_data.csv').drop(['ID'],axis = 1)\n",
    "    return (X,Y,churn_test)"
   ]
  },
  {
   "cell_type": "code",
   "execution_count": 35,
   "metadata": {},
   "outputs": [],
   "source": [
    "def labelEncoder(data):\n",
    "    data.apply(str)\n",
    "    le = preprocessing.LabelEncoder()\n",
    "    for m in range(data.shape[1]):\n",
    "        le.fit(data.iloc[:,m])\n",
    "        data.iloc[:,m] = le.transform(data.iloc[:,m])        \n",
    "    return data"
   ]
  },
  {
   "cell_type": "code",
   "execution_count": 36,
   "metadata": {},
   "outputs": [],
   "source": [
    "def prepare_data(data):\n",
    "    num = data.iloc[:, 1:191]\n",
    "    cat = data.iloc[:, 191:]\n",
    "    num.dropna(axis=1, thresh=num.shape[0]*0.05, subset=None, inplace=True)\n",
    "    cat.dropna(axis=1, thresh=num.shape[0]*0.05, subset=None, inplace=True)\n",
    "    num.fillna(num.mean(),inplace=True)\n",
    "    cat.fillna('NO', inplace=True)\n",
    "    data_new = pd.concat([num,labelEncoder(cat)],axis=1)\n",
    "    return data_new"
   ]
  },
  {
   "cell_type": "code",
   "execution_count": 37,
   "metadata": {},
   "outputs": [],
   "source": [
    "def prepare_data_zero(data):\n",
    "    num = data.iloc[:, 1:191]\n",
    "    cat = data.iloc[:, 191:]\n",
    "    num.dropna(axis=1, thresh=num.shape[0]*0.05, subset=None, inplace=True)\n",
    "    cat.dropna(axis=1, thresh=num.shape[0]*0.05, subset=None, inplace=True)\n",
    "    num.fillna(0,inplace=True)\n",
    "    cat.fillna('NO', inplace=True)\n",
    "    data_new = pd.concat([num,labelEncoder(cat)],axis=1)\n",
    "    return data_new"
   ]
  },
  {
   "cell_type": "code",
   "execution_count": 38,
   "metadata": {},
   "outputs": [],
   "source": [
    "def prepare_data_cat_top(data):\n",
    "    num = data.iloc[:, 1:191]\n",
    "    cat = data.iloc[:, 191:]\n",
    "    num.dropna(axis=1, thresh=num.shape[0]*0.05, subset=None, inplace=True)\n",
    "    cat.dropna(axis=1, thresh=num.shape[0]*0.05, subset=None, inplace=True)\n",
    "    num.fillna(num.mean(),inplace=True)\n",
    "    for i in range(len(cat.columns.values)):\n",
    "        cat.fillna(cat.iloc[:,i].value_counts().index[0], inplace=True)\n",
    "    data_new = pd.concat([num,labelEncoder(cat)],axis=1)\n",
    "    return data_new"
   ]
  },
  {
   "cell_type": "code",
   "execution_count": 39,
   "metadata": {},
   "outputs": [],
   "source": [
    "def result(estimator, X, Y):\n",
    "    score = ['roc_auc', 'precision', 'recall', 'f1_weighted']\n",
    "    skf = model_selection.StratifiedKFold(n_splits=5, shuffle=True)\n",
    "    for i in score:\n",
    "        res = model_selection.cross_val_score(estimator, X, Y, scoring=i, cv = skf)\n",
    "        print(\"Scores for metric %s:\" % i)\n",
    "        print(res)\n",
    "        print(res.mean())\n",
    "    print('==============================================')"
   ]
  },
  {
   "cell_type": "code",
   "execution_count": 40,
   "metadata": {},
   "outputs": [],
   "source": [
    "def undersampling_X (X, y, ratio):\n",
    "    data = pd.concat([X,y],axis=1)\n",
    "    Churn = data[data['label'] == 1]\n",
    "    NoChurn = data[data['label'] == -1]\n",
    "    size_churn = len(Churn)\n",
    "    size_nochurn = len(NoChurn)\n",
    "    size_for_new_data = np.random.randint(0, size_nochurn , size_churn * ratio)\n",
    "    new_date = pd.concat([Churn, NoChurn.iloc[size_for_new_data,:]])\n",
    "    return new_date.iloc[:,:77]"
   ]
  },
  {
   "cell_type": "code",
   "execution_count": 41,
   "metadata": {},
   "outputs": [],
   "source": [
    "def undersampling_y (X, y, ratio):\n",
    "    data = pd.concat([X,y],axis=1)\n",
    "    Churn = data[data['label'] == 1]\n",
    "    NoChurn = data[data['label'] == -1]\n",
    "    size_churn = len(Churn)\n",
    "    size_nochurn = len(NoChurn)\n",
    "    size_for_new_data = np.random.randint(0, size_nochurn , size_churn * ratio)\n",
    "    new_date = pd.concat([Churn, NoChurn.iloc[size_for_new_data,:]])\n",
    "    return new_date.iloc[:,77:]"
   ]
  },
  {
   "cell_type": "code",
   "execution_count": 42,
   "metadata": {},
   "outputs": [],
   "source": [
    "def data_for_baseline (X,Y):\n",
    "    X_train, X_test, y_train, y_test = train_test_split(X,Y, test_size=0.1, random_state=123)\n",
    "    return X_train, X_test, y_train, y_test "
   ]
  },
  {
   "cell_type": "code",
   "execution_count": 43,
   "metadata": {},
   "outputs": [],
   "source": [
    "def algo_predict (values, threshold):\n",
    "    predict = []\n",
    "    for i in values:\n",
    "        if i >= threshold:\n",
    "            predict.append(1)\n",
    "        else:\n",
    "            predict.append(-1)\n",
    "    return np.array(predict)"
   ]
  },
  {
   "cell_type": "code",
   "execution_count": 44,
   "metadata": {},
   "outputs": [],
   "source": [
    "X,y,_ = get_data()"
   ]
  },
  {
   "cell_type": "code",
   "execution_count": 45,
   "metadata": {},
   "outputs": [],
   "source": [
    "X = prepare_data(X)"
   ]
  },
  {
   "cell_type": "markdown",
   "metadata": {},
   "source": [
    "**Обучим модель по параметрам, полученным на прошлом поинте**"
   ]
  },
  {
   "cell_type": "code",
   "execution_count": 46,
   "metadata": {},
   "outputs": [
    {
     "data": {
      "text/plain": [
       "XGBClassifier(base_score=0.5, booster='gbtree', colsample_bylevel=1,\n",
       "       colsample_bynode=1, colsample_bytree=1, gamma=0, learning_rate=0.1,\n",
       "       max_delta_step=0, max_depth=4, min_child_weight=1, missing=None,\n",
       "       n_estimators=65, n_jobs=1, nthread=None,\n",
       "       objective='binary:logistic', random_state=0, reg_alpha=0,\n",
       "       reg_lambda=1, sample_weight=11, scale_pos_weight=1, seed=None,\n",
       "       silent=None, subsample=1, verbosity=1)"
      ]
     },
     "execution_count": 46,
     "metadata": {},
     "output_type": "execute_result"
    }
   ],
   "source": [
    "l1 = Lasso(alpha = 0.01).fit(X, y)\n",
    "model = SelectFromModel(l1, prefit=True)\n",
    "X_new = model.transform(X)\n",
    "X_train, X_test, y_train, y_test = data_for_baseline(X_new,y)\n",
    "estimator=xgb.XGBClassifier( n_estimators=65, max_depth = 4,  sample_weight = 11)\n",
    "estimator.fit(X_train,y_train)"
   ]
  },
  {
   "cell_type": "markdown",
   "metadata": {},
   "source": [
    "Постройте простую экономическую модель для оценки эффекта от внедрения полученного решения на практике.\n",
    "\n",
    "Например, введите следующие параметры:\n",
    "\n",
    "* сколько денег в среднем приносит один пользователь в месяц;\n",
    "\n",
    "* сколько денег в среднем вы будете вкладывать в удержание одного пользователя;\n",
    "\n",
    "* с какой вероятностью пользователь примет ваше предложение;\n",
    "\n",
    "* сколько пользователей (например, топ 1% или топ 25% согласно ранжированию по вашей модели) будет участвовать в кампании."
   ]
  },
  {
   "cell_type": "markdown",
   "metadata": {},
   "source": [
    "1. Введите еще несколько параметров и на их основе постройте простую экономическую модель: формулу по которой в зависимости от значения исходных параметров вы сможете рассчитать экономический эффект от проведения кампании (= сколько денег вы получили (или наоборот потеряли) от проведения кампании по удержанию) с использование вашей модели."
   ]
  },
  {
   "cell_type": "code",
   "execution_count": 47,
   "metadata": {},
   "outputs": [],
   "source": [
    "def model_without (revenue, top ):\n",
    "    values = estimator.predict_proba(X_test)[:,1]\n",
    "    lst = [(value, int(y_test.values[i]), i) for (i,value) in enumerate(values)]\n",
    "    lst.sort(key = lambda x: -x[0])\n",
    "    equety = []\n",
    "    for i in top:\n",
    "        cnt = int(len(lst) * i /100)\n",
    "        cnt_churn = len([value for (i,value) in enumerate(lst[:cnt]) if value[1] == 1])\n",
    "        income = cnt * revenue - cnt_churn * revenue\n",
    "        equety.append(income)\n",
    "    return equety"
   ]
  },
  {
   "cell_type": "code",
   "execution_count": 48,
   "metadata": {},
   "outputs": [],
   "source": [
    "def model_with (revenue, cost, proba, top):\n",
    "    values = estimator.predict_proba(X_test)[:,1]\n",
    "    lst = [(value, int(y_test.values[i]), i) for (i,value) in enumerate(values)]\n",
    "    lst.sort(key = lambda x: -x[0])\n",
    "    equety = []\n",
    "    for i in top:\n",
    "        cnt = int(len(lst) * i /100)\n",
    "        cnt_churn = len([value for (i,value) in enumerate(lst[:cnt]) if value[1] == 1])\n",
    "        costs = cost * cnt\n",
    "        income = cnt * revenue - ((1 - proba) * cnt_churn * revenue)\n",
    "        equety.append(income - costs)\n",
    "    return equety\n",
    "        "
   ]
  },
  {
   "cell_type": "code",
   "execution_count": 49,
   "metadata": {
    "scrolled": true
   },
   "outputs": [
    {
     "data": {
      "image/png": "[encoded data removed]",
      "text/plain": [
       "<Figure size 432x288 with 1 Axes>"
      ]
     },
     "metadata": {
      "needs_background": "light"
     },
     "output_type": "display_data"
    }
   ],
   "source": [
    "with_promo = model_with (revenue = 100, cost = 20, proba = 0.01, top = range(1,101))\n",
    "without_promo = model_without (revenue = 100, top = range(1,101))\n",
    "x = range(1, 101, 1)\n",
    "plot(x, with_promo, color=\"g\", label=\"with promo\")\n",
    "plot(x, without_promo, color=\"r\", label=\"without promo\")\n",
    "plt.legend()\n",
    "plt.show()\n"
   ]
  },
  {
   "cell_type": "markdown",
   "metadata": {},
   "source": [
    "в зависимости от цены удержания и вероятности, модель становится лучше/хуже\n",
    "\n",
    "немного изменю модель, уберу влияние оставшихся абонентов "
   ]
  },
  {
   "cell_type": "code",
   "execution_count": 50,
   "metadata": {},
   "outputs": [],
   "source": [
    "def model_updated (revenue, cost, proba, top):\n",
    "    values = estimator.predict_proba(X_test)[:,1]\n",
    "    lst = [(value, int(y_test.values[i]), i) for (i,value) in enumerate(values)]\n",
    "    lst.sort(key = lambda x: -x[0])\n",
    "    equety = []\n",
    "    income = 0\n",
    "    for i in top:\n",
    "        cnt = int(len(lst) * i /100)\n",
    "        cnt_churn = len([value for (i,value) in enumerate(lst[:cnt]) if value[1] == 1])\n",
    "        costs = cost * cnt\n",
    "        income += revenue*proba*cnt_churn\n",
    "        equety.append(income - costs)\n",
    "        income = 0\n",
    "    return equety"
   ]
  },
  {
   "cell_type": "code",
   "execution_count": 51,
   "metadata": {},
   "outputs": [
    {
     "data": {
      "text/plain": [
       "[<matplotlib.lines.Line2D at 0x216dc7384a8>]"
      ]
     },
     "execution_count": 51,
     "metadata": {},
     "output_type": "execute_result"
    },
    {
     "data": {
      "image/png": "[encoded data removed]",
      "text/plain": [
       "<Figure size 432x288 with 1 Axes>"
      ]
     },
     "metadata": {
      "needs_background": "light"
     },
     "output_type": "display_data"
    }
   ],
   "source": [
    "plot(x, model_updated(revenue = 100, cost = 5, proba = 0.1, top = range(1,101)))"
   ]
  },
  {
   "cell_type": "raw",
   "metadata": {},
   "source": [
    "как видно модель в общем случае убыточна, если брать большое число участников акции"
   ]
  },
  {
   "cell_type": "markdown",
   "metadata": {},
   "source": [
    "2. Исходя из введенных параметров проанализируйте, какой топ пользователей, склонных к оттоку согласно модели, оптимально выбрать для проведения кампании по удержанию для таким образом, чтобы экономический эффект был наибольшим?"
   ]
  },
  {
   "cell_type": "markdown",
   "metadata": {},
   "source": [
    "В зависимости от cost и proba. топ всегда будет разный. зафиксируем cost - 5 % от ревеню / вер-ть принятия предложения  30 %\n",
    "иначе совсем не интересно) - все в минус"
   ]
  },
  {
   "cell_type": "code",
   "execution_count": 52,
   "metadata": {},
   "outputs": [],
   "source": [
    "res = model_updated(revenue = 100, cost = 5, proba = 0.3, top = range(1,101))"
   ]
  },
  {
   "cell_type": "code",
   "execution_count": 53,
   "metadata": {},
   "outputs": [
    {
     "data": {
      "text/plain": [
       "[<matplotlib.lines.Line2D at 0x216dbc4a208>]"
      ]
     },
     "execution_count": 53,
     "metadata": {},
     "output_type": "execute_result"
    },
    {
     "data": {
      "image/png": "[encoded data removed]",
      "text/plain": [
       "<Figure size 432x288 with 1 Axes>"
      ]
     },
     "metadata": {
      "needs_background": "light"
     },
     "output_type": "display_data"
    }
   ],
   "source": [
    "plot(x, res)"
   ]
  },
  {
   "cell_type": "code",
   "execution_count": 54,
   "metadata": {},
   "outputs": [
    {
     "name": "stdout",
     "output_type": "stream",
     "text": [
      "max revenue is 880.0 with top of 15 percents\n"
     ]
    }
   ],
   "source": [
    "print('max revenue is %s with top of %d percents' % (max(res), res.index(max(res))))"
   ]
  },
  {
   "cell_type": "markdown",
   "metadata": {},
   "source": [
    "3. Попробуйте усложнить экономическую модель. Добавьте еще несколько параметров и поиграйте с ними (например, измените стоимость удержания и вероятность, с которой пользователь принимает предложение), проанализируйте как меняется оптимальный размер топа?"
   ]
  },
  {
   "cell_type": "code",
   "execution_count": 55,
   "metadata": {},
   "outputs": [
    {
     "data": {
      "text/plain": [
       "[<matplotlib.lines.Line2D at 0x216dbf1bc88>]"
      ]
     },
     "execution_count": 55,
     "metadata": {},
     "output_type": "execute_result"
    },
    {
     "data": {
      "image/png": "[encoded data removed]",
      "text/plain": [
       "<Figure size 432x288 with 1 Axes>"
      ]
     },
     "metadata": {
      "needs_background": "light"
     },
     "output_type": "display_data"
    }
   ],
   "source": [
    "plot(x, model_updated(revenue = 100, cost = 5, proba = 0.7, top = range(1,101)))"
   ]
  },
  {
   "cell_type": "code",
   "execution_count": 56,
   "metadata": {},
   "outputs": [
    {
     "data": {
      "text/plain": [
       "[<matplotlib.lines.Line2D at 0x216dceaf588>]"
      ]
     },
     "execution_count": 56,
     "metadata": {},
     "output_type": "execute_result"
    },
    {
     "data": {
      "image/png": "[encoded data removed]",
      "text/plain": [
       "<Figure size 432x288 with 1 Axes>"
      ]
     },
     "metadata": {
      "needs_background": "light"
     },
     "output_type": "display_data"
    }
   ],
   "source": [
    "plot(x, model_updated(revenue = 100, cost = 2, proba = 0.3, top = range(1,101)))"
   ]
  },
  {
   "cell_type": "markdown",
   "metadata": {},
   "source": [
    "как и говорил ранее, увеличение вероятности принятия предложения либо уменьшении стоиомсти привелчения веде к увеличению доходов от кампании"
   ]
  },
  {
   "cell_type": "markdown",
   "metadata": {},
   "source": [
    "**пусть клиент принявший предложение и оставшийся с компанией получает скидку 20/30/50 % на обслуживаение(привет мтс) посмотрим на модель**"
   ]
  },
  {
   "cell_type": "code",
   "execution_count": 57,
   "metadata": {},
   "outputs": [],
   "source": [
    "def model_sale (revenue, cost, proba, top):\n",
    "    values = estimator.predict_proba(X_test)[:,1]\n",
    "    lst = [(value, int(y_test.values[i]), i) for (i,value) in enumerate(values)]\n",
    "    lst.sort(key = lambda x: -x[0])\n",
    "    equety = []\n",
    "    \n",
    "    sale = [20, 30, 50]\n",
    "    for j in sale:\n",
    "        income = 0\n",
    "        for i in top:\n",
    "            cnt = int(len(lst) * i /100)\n",
    "            cnt_churn = len([value for (i,value) in enumerate(lst[:cnt]) if value[1] == 1])\n",
    "            costs = cost * cnt\n",
    "            income += (revenue - revenue * j/100) * proba * cnt_churn\n",
    "            equety.append(income - costs)\n",
    "            income = 0\n",
    "    program_20 = equety[:len(top)]\n",
    "    program_30 = equety[len(top):2*len(top)]\n",
    "    program_50 = equety[2*len(top):]\n",
    "    return  program_20,  program_30,  program_50"
   ]
  },
  {
   "cell_type": "code",
   "execution_count": 58,
   "metadata": {},
   "outputs": [],
   "source": [
    "program_20,  program_30,  program_50 = model_sale(revenue = 100, cost = 5, proba = 0.7, top = range(1,101))"
   ]
  },
  {
   "cell_type": "code",
   "execution_count": 59,
   "metadata": {},
   "outputs": [
    {
     "data": {
      "text/plain": [
       "<matplotlib.legend.Legend at 0x216dc225e10>"
      ]
     },
     "execution_count": 59,
     "metadata": {},
     "output_type": "execute_result"
    },
    {
     "data": {
      "image/png": "[encoded data removed]",
      "text/plain": [
       "<Figure size 432x288 with 1 Axes>"
      ]
     },
     "metadata": {
      "needs_background": "light"
     },
     "output_type": "display_data"
    }
   ],
   "source": [
    "plot(x, program_20, color=\"g\", label=\"programm_20\" )\n",
    "plot(x, program_30, color=\"y\", label=\"programm_30\" )\n",
    "plot(x, program_50, color=\"r\", label=\"programm_50\" )\n",
    "plt.legend()"
   ]
  },
  {
   "cell_type": "markdown",
   "metadata": {},
   "source": [
    "как видим, даже при вероятности принятия предлоежения в 0.7 скидка в 50% делает модель околонулевой"
   ]
  },
  {
   "cell_type": "markdown",
   "metadata": {},
   "source": [
    "4. Всегда ли применение модели экономически оправданно? Приведите пример набора значений параметров, при которых применение модели перестает быть оправданным."
   ]
  },
  {
   "cell_type": "markdown",
   "metadata": {},
   "source": [
    "конечнно не всегда. при костах в 20% . модель летит в трубу"
   ]
  },
  {
   "cell_type": "code",
   "execution_count": 60,
   "metadata": {},
   "outputs": [
    {
     "data": {
      "text/plain": [
       "[<matplotlib.lines.Line2D at 0x216dc4c4908>]"
      ]
     },
     "execution_count": 60,
     "metadata": {},
     "output_type": "execute_result"
    },
    {
     "data": {
      "image/png": "[encoded data removed]",
      "text/plain": [
       "<Figure size 432x288 with 1 Axes>"
      ]
     },
     "metadata": {
      "needs_background": "light"
     },
     "output_type": "display_data"
    }
   ],
   "source": [
    "plot(x, model_updated(revenue = 100, cost = 20, proba = 0.3, top = range(1,101)))"
   ]
  },
  {
   "cell_type": "markdown",
   "metadata": {},
   "source": [
    "5. Оцените изменение экономического эффекта от проведения кампании по удержанию при увеличении качества модели на 1%? На 3%? При ответе на вопрос укажите, по какой метрике вы оцениваете качество."
   ]
  },
  {
   "cell_type": "code",
   "execution_count": 61,
   "metadata": {},
   "outputs": [],
   "source": [
    "from sklearn.metrics import roc_auc_score, recall_score"
   ]
  },
  {
   "cell_type": "code",
   "execution_count": 62,
   "metadata": {},
   "outputs": [
    {
     "data": {
      "text/plain": [
       "0.860450563204005"
      ]
     },
     "execution_count": 62,
     "metadata": {},
     "output_type": "execute_result"
    }
   ],
   "source": [
    "roc_auc_score(estimator.predict(X_test),y_test)"
   ]
  },
  {
   "cell_type": "markdown",
   "metadata": {},
   "source": [
    "в задачах на отток более важным явдяется ошибка второго рода. ее и нужно уменьшать. или иными словами повышть recall.\n",
    "recall  - это доля угаданных положительных классов ,среди всех положильтеных классов. Увелить его можно только уменьши false negative ответа - иными словами, нам нужно понизить threshold, увеличив мозность модели, но тогда упадет precision.\n",
    "Вопрос баланса/ без четкого понимая сколько стоит каждый абонент задачу не решить\n"
   ]
  },
  {
   "cell_type": "markdown",
   "metadata": {},
   "source": [
    "возьмем базовую модель  cost - 5 % от ревеню / вер-ть принятия предложения  30 %"
   ]
  },
  {
   "cell_type": "code",
   "execution_count": 131,
   "metadata": {},
   "outputs": [
    {
     "name": "stdout",
     "output_type": "stream",
     "text": [
      "max revenue is 880.0 with top of 15 percents\n"
     ]
    },
    {
     "data": {
      "image/png": "[encoded data removed]",
      "text/plain": [
       "<Figure size 432x288 with 1 Axes>"
      ]
     },
     "metadata": {
      "needs_background": "light"
     },
     "output_type": "display_data"
    }
   ],
   "source": [
    "res = model_updated(revenue = 100, cost = 5, proba = 0.3, top = range(1,101))\n",
    "\n",
    "plot(x, res)\n",
    "\n",
    "print('max revenue is %s with top of %d percents' % (max(res), res.index(max(res))))"
   ]
  },
  {
   "cell_type": "markdown",
   "metadata": {},
   "source": [
    "rec = tp/(tr + fn)"
   ]
  },
  {
   "cell_type": "code",
   "execution_count": 67,
   "metadata": {},
   "outputs": [],
   "source": [
    "y_pred = estimator.predict(X_test)"
   ]
  },
  {
   "cell_type": "code",
   "execution_count": 119,
   "metadata": {},
   "outputs": [],
   "source": [
    "rec = recall_score(y_test.values.flatten(), y_pred)"
   ]
  },
  {
   "cell_type": "code",
   "execution_count": 120,
   "metadata": {},
   "outputs": [
    {
     "data": {
      "text/plain": [
       "0.0125"
      ]
     },
     "execution_count": 120,
     "metadata": {},
     "output_type": "execute_result"
    }
   ],
   "source": [
    "rec"
   ]
  },
  {
   "cell_type": "code",
   "execution_count": 121,
   "metadata": {},
   "outputs": [],
   "source": [
    "tp = ((y_pred == 1) & (y_test.values.flatten() == y_pred)).sum()"
   ]
  },
  {
   "cell_type": "code",
   "execution_count": 122,
   "metadata": {},
   "outputs": [],
   "source": [
    "fn = ((y_pred == -1) & (y_test.values.flatten() == 1)).sum()"
   ]
  },
  {
   "cell_type": "code",
   "execution_count": 130,
   "metadata": {},
   "outputs": [
    {
     "data": {
      "text/plain": [
       "316"
      ]
     },
     "execution_count": 130,
     "metadata": {},
     "output_type": "execute_result"
    }
   ],
   "source": [
    "fn"
   ]
  },
  {
   "cell_type": "code",
   "execution_count": 128,
   "metadata": {},
   "outputs": [],
   "source": [
    "recall = tp/(tp+fn)"
   ]
  },
  {
   "cell_type": "code",
   "execution_count": 129,
   "metadata": {},
   "outputs": [
    {
     "data": {
      "text/plain": [
       "312.83168316831683"
      ]
     },
     "execution_count": 129,
     "metadata": {},
     "output_type": "execute_result"
    }
   ],
   "source": [
    "tp / (recall  * 1.01) - tp"
   ]
  },
  {
   "cell_type": "code",
   "execution_count": 136,
   "metadata": {},
   "outputs": [
    {
     "data": {
      "text/plain": [
       "306.6796116504854"
      ]
     },
     "execution_count": 136,
     "metadata": {},
     "output_type": "execute_result"
    }
   ],
   "source": [
    "tp / (recall  * 1.03) - tp"
   ]
  },
  {
   "cell_type": "markdown",
   "metadata": {},
   "source": [
    "таким образов - увеличение кач-ва модели на 1 и 3  процент ведет к уменьшению fn на 4 и 10 соответсвнно, сл-но на 4 и 10 увеличится верное предсказываение\n",
    "(при базовой модели 4/10* 100* 0,3 = +120/300 рублей прирост) "
   ]
  },
  {
   "cell_type": "markdown",
   "metadata": {},
   "source": [
    "6. Как вы думаете, является ли экономически оправданным вложение средств в улучшение качества модели? На сколько нужно улучшить модель, чтобы это качественно сказалось на экономическом эффекте от удержания?"
   ]
  },
  {
   "cell_type": "markdown",
   "metadata": {},
   "source": [
    "все зависит от цены и объема работ. Если классифактор сможет определять ,например, 95% оттока. при этому удержаание абонентов будет стоить мало. то , да, улчщение кач-ва классфикатора приведет к улучшению фин модели"
   ]
  },
  {
   "cell_type": "code",
   "execution_count": null,
   "metadata": {},
   "outputs": [],
   "source": []
  },
  {
   "cell_type": "code",
   "execution_count": null,
   "metadata": {},
   "outputs": [],
   "source": []
  }
 ],
 "metadata": {
  "kernelspec": {
   "display_name": "Python 3",
   "language": "python",
   "name": "python3"
  },
  "language_info": {
   "codemirror_mode": {
    "name": "ipython",
    "version": 3
   },
   "file_extension": ".py",
   "mimetype": "text/x-python",
   "name": "python",
   "nbconvert_exporter": "python",
   "pygments_lexer": "ipython3",
   "version": "3.7.3"
  }
 },
 "nbformat": 4,
 "nbformat_minor": 1
}
