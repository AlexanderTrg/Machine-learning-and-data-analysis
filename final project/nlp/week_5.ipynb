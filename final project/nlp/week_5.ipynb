{
 "cells": [
  {
   "cell_type": "markdown",
   "metadata": {},
   "source": [
    "# Пример парсинга страницы сайта"
   ]
  },
  {
   "cell_type": "markdown",
   "metadata": {},
   "source": [
    "## Requests"
   ]
  },
  {
   "cell_type": "markdown",
   "metadata": {},
   "source": [
    "а) из статьи https://en.wikipedia.org/wiki/Bias-variance_tradeoff все заголовки верхнего уровня;"
   ]
  },
  {
   "cell_type": "code",
   "execution_count": null,
   "metadata": {},
   "outputs": [],
   "source": [
    "req"
   ]
  },
  {
   "cell_type": "code",
   "execution_count": 11,
   "metadata": {},
   "outputs": [],
   "source": [
    "import requests\n",
    "import bs4\n",
    "from multiprocessing import Pool\n",
    "import codecs\n",
    "from functools import reduce"
   ]
  },
  {
   "cell_type": "code",
   "execution_count": 17,
   "metadata": {},
   "outputs": [],
   "source": [
    "req = requests.get('https://en.wikipedia.org/wiki/Bias-variance_tradeoff ')"
   ]
  },
  {
   "cell_type": "code",
   "execution_count": 18,
   "metadata": {},
   "outputs": [],
   "source": [
    "parser = bs4.BeautifulSoup(req.text, 'lxml')"
   ]
  },
  {
   "cell_type": "markdown",
   "metadata": {},
   "source": [
    "Самым верхним уровнем является уровень 1 ('h1')"
   ]
  },
  {
   "cell_type": "code",
   "execution_count": 22,
   "metadata": {},
   "outputs": [
    {
     "data": {
      "text/plain": [
       "[<h1 class=\"firstHeading\" id=\"firstHeading\" lang=\"en\">Bias–variance tradeoff</h1>]"
      ]
     },
     "execution_count": 22,
     "metadata": {},
     "output_type": "execute_result"
    }
   ],
   "source": [
    "parser.findAll('h1')"
   ]
  },
  {
   "cell_type": "code",
   "execution_count": 26,
   "metadata": {},
   "outputs": [
    {
     "name": "stdout",
     "output_type": "stream",
     "text": [
      "<class 'bs4.element.ResultSet'>\n",
      "Bias–variance tradeoff\n",
      "\n",
      "------\n",
      "\n"
     ]
    }
   ],
   "source": [
    "y = parser.findAll('h1')\n",
    "print (type(y))\n",
    "\n",
    "for result in y:\n",
    "    print (result.text)\n",
    "    print (\"\\n------\\n\")"
   ]
  },
  {
   "cell_type": "markdown",
   "metadata": {},
   "source": [
    "б) со страницы https://en.wikipedia.org/wiki/Category:Machine_learning_algorithms названия всех статей в категории Machine Learning Algorithms"
   ]
  },
  {
   "cell_type": "code",
   "execution_count": 55,
   "metadata": {},
   "outputs": [],
   "source": [
    "req1 = requests.get('https://en.wikipedia.org/wiki/Category:Machine_learning_algorithms')"
   ]
  },
  {
   "cell_type": "code",
   "execution_count": 56,
   "metadata": {},
   "outputs": [
    {
     "data": {
      "text/plain": [
       "'\\n<!DOCTYPE html>\\n<html class=\"client-nojs\" lang=\"en\" dir=\"ltr\">\\n<head>\\n<meta charset=\"UTF-8\"/>\\n<title>Category:Machine learning algorithms - Wikipedia</title>\\n<script>document.documentElement.className=\"client-js\";RLCONF={\"wgBreakFrames\":!1,\"wgSeparatorTransformTable\":[\"\",\"\"],\"wgDigitTransformTable\":[\"\",\"\"],\"wgDefaultDateFormat\":\"dmy\",\"wgMonthNames\":[\"\",\"January\",\"February\",\"March\",\"April\",\"May\",\"June\",\"July\",\"August\",\"September\",\"October\",\"November\",\"December\"],\"wgRequestId\":\"XsgeUgpAMNAAAqviRD8AAAAE\",\"wgCSPNonce\":!1,\"wgCanonicalNamespace\":\"Category\",\"wgCanonicalSpecialPageName\":!1,\"wgNamespaceNumber\":14,\"wgPageName\":\"Category:Machine_learning_algorithms\",\"wgTitle\":\"Machine learning algorithms\",\"wgCurRevisionId\":902071604,\"wgRevisionId\":902071604,\"wgArticleId\":33547228,\"wgIsArticle\":!0,\"wgIsRedirect\":!1,\"wgAction\":\"view\",\"wgUserName\":null,\"wgUserGroups\":[\"*\"],\"wgCategories\":[\"Commons category link is on Wikidata\",\"Machine learning\",\"Algorithms\"],\"wgPageContentLanguage\":\"en\",\"wgPageContentModel\":\"wikitext\",\"wgRelevantPageName\":\"Category:Machine_learning_algorithms\",\"wgRelevantArticleId\":33547228,\"wgIsProbablyEditable\":!0,\\n\"wgRelevantPageIsProbablyEditable\":!0,\"wgRestrictionEdit\":[],\"wgRestrictionMove\":[],\"wgMediaViewerOnClick\":!0,\"wgMediaViewerEnabledByDefault\":!0,\"wgPopupsReferencePreviews\":!1,\"wgPopupsConflictsWithNavPopupGadget\":!1,\"wgVisualEditor\":{\"pageLanguageCode\":\"en\",\"pageLanguageDir\":\"ltr\",\"pageVariantFallbacks\":\"en\"},\"wgMFDisplayWikibaseDescriptions\":{\"search\":!0,\"nearby\":!0,\"watchlist\":!0,\"tagline\":!1},\"wgWMESchemaEditAttemptStepOversample\":!1,\"wgULSCurrentAutonym\":\"English\",\"wgNoticeProject\":\"wikipedia\",\"wgWikibaseItemId\":\"Q8592571\",\"wgCentralAuthMobileDomain\":!1,\"wgEditSubmitButtonLabelPublish\":!0};RLSTATE={\"ext.globalCssJs.user.styles\":\"ready\",\"site.styles\":\"ready\",\"noscript\":\"ready\",\"user.styles\":\"ready\",\"ext.globalCssJs.user\":\"ready\",\"user\":\"ready\",\"user.options\":\"loading\",\"mediawiki.action.view.categoryPage.styles\":\"ready\",\"ext.categoryTree.styles\":\"ready\",\"mediawiki.helplink\":\"ready\",\"skins.vector.styles.legacy\":\"ready\",\"wikibase.client.init\":\"ready\",\\n\"ext.visualEditor.desktopArticleTarget.noscript\":\"ready\",\"ext.uls.interlanguage\":\"ready\",\"ext.wikimediaBadges\":\"ready\",\"ext.tmh.thumbnail.styles\":\"ready\"};RLPAGEMODULES=[\"ext.categoryTree\",\"site\",\"mediawiki.page.startup\",\"skins.vector.js\",\"mediawiki.page.ready\",\"ext.gadget.ReferenceTooltips\",\"ext.gadget.charinsert\",\"ext.gadget.refToolbar\",\"ext.gadget.extra-toolbar-buttons\",\"ext.gadget.switcher\",\"ext.centralauth.centralautologin\",\"mmv.head\",\"mmv.bootstrap.autostart\",\"ext.popups\",\"ext.visualEditor.desktopArticleTarget.init\",\"ext.visualEditor.targetLoader\",\"ext.eventLogging\",\"ext.wikimediaEvents\",\"ext.navigationTiming\",\"ext.uls.compactlinks\",\"ext.uls.interface\",\"ext.cx.eventlogging.campaigns\",\"ext.centralNotice.geoIP\",\"ext.centralNotice.startUp\",\"mw.MediaWikiPlayer.loader\",\"mw.PopUpMediaTransform\"];</script>\\n<script>(RLQ=window.RLQ||[]).push(function(){mw.loader.implement(\"user.options@1hzgi\",function($,jQuery,require,module){/*@nomin*/mw.user.tokens.set({\"patrolToken\":\"+\\\\\\\\\",\"watchToken\":\"+\\\\\\\\\",\"csrfToken\":\"+\\\\\\\\\"});\\n});});</script>\\n<link rel=\"stylesheet\" href=\"/w/load.php?lang=en&amp;modules=ext.categoryTree.styles%7Cext.tmh.thumbnail.styles%7Cext.uls.interlanguage%7Cext.visualEditor.desktopArticleTarget.noscript%7Cext.wikimediaBadges%7Cmediawiki.action.view.categoryPage.styles%7Cmediawiki.helplink%7Cskins.vector.styles.legacy%7Cwikibase.client.init&amp;only=styles&amp;skin=vector\"/>\\n<script async=\"\" src=\"/w/load.php?lang=en&amp;modules=startup&amp;only=scripts&amp;raw=1&amp;skin=vector\"></script>\\n<meta name=\"ResourceLoaderDynamicStyles\" content=\"\"/>\\n<link rel=\"stylesheet\" href=\"/w/load.php?lang=en&amp;modules=site.styles&amp;only=styles&amp;skin=vector\"/>\\n<meta name=\"generator\" content=\"MediaWiki 1.35.0-wmf.31\"/>\\n<meta name=\"referrer\" content=\"origin\"/>\\n<meta name=\"referrer\" content=\"origin-when-crossorigin\"/>\\n<meta name=\"referrer\" content=\"origin-when-cross-origin\"/>\\n<link rel=\"alternate\" type=\"application/x-wiki\" title=\"Edit this page\" href=\"/w/index.php?title=Category:Machine_learning_algorithms&amp;action=edit\"/>\\n<link rel=\"edit\" title=\"Edit this page\" href=\"/w/index.php?title=Category:Machine_learning_algorithms&amp;action=edit\"/>\\n<link rel=\"apple-touch-icon\" href=\"/static/apple-touch/wikipedia.png\"/>\\n<link rel=\"shortcut icon\" href=\"/static/favicon/wikipedia.ico\"/>\\n<link rel=\"search\" type=\"application/opensearchdescription+xml\" href=\"/w/opensearch_desc.php\" title=\"Wikipedia (en)\"/>\\n<link rel=\"EditURI\" type=\"application/rsd+xml\" href=\"//en.wikipedia.org/w/api.php?action=rsd\"/>\\n<link rel=\"license\" href=\"//creativecommons.org/licenses/by-sa/3.0/\"/>\\n<link rel=\"alternate\" type=\"application/atom+xml\" title=\"Wikipedia Atom feed\" href=\"/w/index.php?title=Special:RecentChanges&amp;feed=atom\"/>\\n<link rel=\"canonical\" href=\"https://en.wikipedia.org/wiki/Category:Machine_learning_algorithms\"/>\\n<link rel=\"dns-prefetch\" href=\"//login.wikimedia.org\"/>\\n<link rel=\"dns-prefetch\" href=\"//meta.wikimedia.org\" />\\n<!--[if lt IE 9]><script src=\"/w/resources/lib/html5shiv/html5shiv.js\"></script><![endif]-->\\n</head>\\n<body class=\"mediawiki ltr sitedir-ltr mw-hide-empty-elt ns-14 ns-subject mw-editable page-Category_Machine_learning_algorithms rootpage-Category_Machine_learning_algorithms skin-vector action-view\">\\n<div id=\"mw-page-base\" class=\"noprint\"></div>\\n<div id=\"mw-head-base\" class=\"noprint\"></div>\\n<div id=\"content\" class=\"mw-body\" role=\"main\">\\n\\t<a id=\"top\"></a>\\n\\t\\t<div id=\"siteNotice\" class=\"mw-body-content\"><!-- CentralNotice --></div>\\n\\t<div class=\"mw-indicators mw-body-content\">\\n<div id=\"mw-indicator-mw-helplink\" class=\"mw-indicator\"><a href=\"/wiki/Help:Category\" target=\"_blank\" class=\"mw-helplink\">Help</a></div>\\n</div>\\n\\n\\t<h1 id=\"firstHeading\" class=\"firstHeading\" lang=\"en\">Category:Machine learning algorithms</h1>\\n\\t\\n\\t<div id=\"bodyContent\" class=\"mw-body-content\">\\n\\t\\t<div id=\"siteSub\" class=\"noprint\">From Wikipedia, the free encyclopedia</div>\\n\\t\\t<div id=\"contentSub\"></div>\\n\\t\\t\\n\\t\\t\\n\\t\\t<div id=\"jump-to-nav\"></div>\\n\\t\\t<a class=\"mw-jump-link\" href=\"#mw-head\">Jump to navigation</a>\\n\\t\\t<a class=\"mw-jump-link\" href=\"#p-search\">Jump to search</a>\\n\\t\\t<div id=\"mw-content-text\" lang=\"en\" dir=\"ltr\" class=\"mw-content-ltr\"><div class=\"mw-parser-output\"><table role=\"presentation\" class=\"mbox-small plainlinks sistersitebox\" style=\"background-color:#f9f9f9;border:1px solid #aaa;color:#000\">\\n<tbody><tr>\\n<td class=\"mbox-image\"><img alt=\"\" src=\"//upload.wikimedia.org/wikipedia/en/thumb/4/4a/Commons-logo.svg/30px-Commons-logo.svg.png\" decoding=\"async\" width=\"30\" height=\"40\" class=\"noviewer\" srcset=\"//upload.wikimedia.org/wikipedia/en/thumb/4/4a/Commons-logo.svg/45px-Commons-logo.svg.png 1.5x, //upload.wikimedia.org/wikipedia/en/thumb/4/4a/Commons-logo.svg/59px-Commons-logo.svg.png 2x\" data-file-width=\"1024\" data-file-height=\"1376\" /></td>\\n<td class=\"mbox-text plainlist\">Wikimedia Commons has media related to <i><b><a href=\"https://commons.wikimedia.org/wiki/Category:Machine_learning_algorithms\" class=\"extiw\" title=\"commons:Category:Machine learning algorithms\"><span style=\"\">Machine learning algorithms</span></a></b></i>.</td></tr>\\n</tbody></table>\\n<div role=\"note\" class=\"hatnote navigation-not-searchable selfref\">See also: the categories <a href=\"/wiki/Category:Data_mining\" title=\"Category:Data mining\">Data mining</a>, <a href=\"/wiki/Category:Classification_algorithms\" title=\"Category:Classification algorithms\">Classification algorithms</a>, and <a href=\"/wiki/Category:Decision_trees\" title=\"Category:Decision trees\">Decision trees</a>.</div>\\n<!-- \\nNewPP limit report\\nParsed by mw1262\\nCached time: 20200517194112\\nCache expiry: 2592000\\nDynamic content: false\\nComplications: []\\nCPU time usage: 0.064 seconds\\nReal time usage: 0.100 seconds\\nPreprocessor visited node count: 132/1000000\\nPost‐expand include size: 2909/2097152 bytes\\nTemplate argument size: 400/2097152 bytes\\nHighest expansion depth: 13/40\\nExpensive parser function count: 0/500\\nUnstrip recursion depth: 0/20\\nUnstrip post‐expand size: 0/5000000 bytes\\nNumber of Wikibase entities loaded: 0/400\\nLua time usage: 0.025/10.000 seconds\\nLua memory usage: 1.16 MB/50 MB\\n-->\\n<!--\\nTransclusion expansion time report (%,ms,calls,template)\\n100.00%   85.119      1 -total\\n 75.76%   64.484      1 Template:Commons_category\\n 71.38%   60.762      1 Template:Sister_project\\n 67.36%   57.337      1 Template:Side_box\\n 24.06%   20.479      1 Template:Cat_see_also\\n 11.79%   10.033      1 Template:Replace\\n  5.74%    4.885      1 Template:Category_see_also/Category_pair_check\\n-->\\n\\n<!-- Saved in parser cache with key enwiki:pcache:idhash:33547228-0!canonical and timestamp 20200517194111 and revision id 902071604\\n -->\\n</div><div class=\"mw-category-generated\" lang=\"en\" dir=\"ltr\"><div id=\"mw-subcategories\">\\n<h2>Subcategories</h2>\\n<p>This category has only the following subcategory.\\n</p><div lang=\"en\" dir=\"ltr\" class=\"mw-content-ltr\"><h3>G</h3>\\n<ul><li><div class=\"CategoryTreeSection\"><div class=\"CategoryTreeItem\"><span class=\"CategoryTreeBullet\"><span class=\"CategoryTreeToggle\" data-ct-title=\"Genetic_algorithms\" data-ct-state=\"collapsed\">►</span> </span> <a href=\"/wiki/Category:Genetic_algorithms\" title=\"Category:Genetic algorithms\">Genetic algorithms</a>\\u200e <span title=\"Contains 2 subcategories, 43 pages, and 0 files\" dir=\"ltr\">(2 C, 43 P)</span></div><div class=\"CategoryTreeChildren\" style=\"display:none\"></div></div></li></ul></div>\\n</div><div id=\"mw-pages\">\\n<h2><span id=\"Pages_in_category\"></span>Pages in category \"Machine learning algorithms\"</h2>\\n<p>The following 65 pages are in this category, out of  65 total. This list may not reflect recent changes (<a href=\"/wiki/Wikipedia:FAQ/Categorization#Why_might_a_category_list_not_be_up_to_date?\" title=\"Wikipedia:FAQ/Categorization\">learn more</a>).\\n</p><div lang=\"en\" dir=\"ltr\" class=\"mw-content-ltr\"><div class=\"mw-category\"><div class=\"mw-category-group\"><h3>A</h3>\\n<ul><li><span class=\"redirect-in-category\"><a href=\"/wiki/Adagrad\" class=\"mw-redirect\" title=\"Adagrad\">Adagrad</a></span></li>\\n<li><a href=\"/wiki/Algorithms_of_Oppression\" title=\"Algorithms of Oppression\">Algorithms of Oppression</a></li>\\n<li><a href=\"/wiki/Almeida%E2%80%93Pineda_recurrent_backpropagation\" title=\"Almeida–Pineda recurrent backpropagation\">Almeida–Pineda recurrent backpropagation</a></li></ul></div><div class=\"mw-category-group\"><h3>B</h3>\\n<ul><li><a href=\"/wiki/Backpropagation\" title=\"Backpropagation\">Backpropagation</a></li>\\n<li><a href=\"/wiki/Bioz\" title=\"Bioz\">Bioz</a></li>\\n<li><a href=\"/wiki/Bootstrap_aggregating\" title=\"Bootstrap aggregating\">Bootstrap aggregating</a></li></ul></div><div class=\"mw-category-group\"><h3>C</h3>\\n<ul><li><a href=\"/wiki/CN2_algorithm\" title=\"CN2 algorithm\">CN2 algorithm</a></li>\\n<li><a href=\"/wiki/Constructing_skill_trees\" title=\"Constructing skill trees\">Constructing skill trees</a></li></ul></div><div class=\"mw-category-group\"><h3>D</h3>\\n<ul><li><a href=\"/wiki/Deep_reinforcement_learning\" title=\"Deep reinforcement learning\">Deep reinforcement learning</a></li>\\n<li><a href=\"/wiki/Dehaene%E2%80%93Changeux_model\" title=\"Dehaene–Changeux model\">Dehaene–Changeux model</a></li>\\n<li><a href=\"/wiki/Diffusion_map\" title=\"Diffusion map\">Diffusion map</a></li>\\n<li><a href=\"/wiki/Dominance-based_rough_set_approach\" title=\"Dominance-based rough set approach\">Dominance-based rough set approach</a></li>\\n<li><a href=\"/wiki/Dynamic_time_warping\" title=\"Dynamic time warping\">Dynamic time warping</a></li></ul></div><div class=\"mw-category-group\"><h3>E</h3>\\n<ul><li><a href=\"/wiki/Elastic_net_regularization\" title=\"Elastic net regularization\">Elastic net regularization</a></li>\\n<li><a href=\"/wiki/Error-driven_learning\" title=\"Error-driven learning\">Error-driven learning</a></li>\\n<li><a href=\"/wiki/Evolutionary_multimodal_optimization\" title=\"Evolutionary multimodal optimization\">Evolutionary multimodal optimization</a></li>\\n<li><a href=\"/wiki/Expectation%E2%80%93maximization_algorithm\" title=\"Expectation–maximization algorithm\">Expectation–maximization algorithm</a></li>\\n<li><a href=\"/wiki/Extremal_Ensemble_Learning\" title=\"Extremal Ensemble Learning\">Extremal Ensemble Learning</a></li></ul></div><div class=\"mw-category-group\"><h3>F</h3>\\n<ul><li><a href=\"/wiki/FastICA\" title=\"FastICA\">FastICA</a></li>\\n<li><a href=\"/wiki/Forward%E2%80%93backward_algorithm\" title=\"Forward–backward algorithm\">Forward–backward algorithm</a></li></ul></div><div class=\"mw-category-group\"><h3>G</h3>\\n<ul><li><a href=\"/wiki/GeneRec\" title=\"GeneRec\">GeneRec</a></li>\\n<li><a href=\"/wiki/Genetic_Algorithm_for_Rule_Set_Production\" title=\"Genetic Algorithm for Rule Set Production\">Genetic Algorithm for Rule Set Production</a></li>\\n<li><a href=\"/wiki/Growing_self-organizing_map\" title=\"Growing self-organizing map\">Growing self-organizing map</a></li></ul></div><div class=\"mw-category-group\"><h3>H</h3>\\n<ul><li><a href=\"/wiki/Hyper_basis_function_network\" title=\"Hyper basis function network\">Hyper basis function network</a></li></ul></div><div class=\"mw-category-group\"><h3>I</h3>\\n<ul><li><a href=\"/wiki/IDistance\" title=\"IDistance\">IDistance</a></li></ul></div><div class=\"mw-category-group\"><h3>K</h3>\\n<ul><li><a href=\"/wiki/K-nearest_neighbors_algorithm\" title=\"K-nearest neighbors algorithm\">K-nearest neighbors algorithm</a></li>\\n<li><a href=\"/wiki/Kernel_methods_for_vector_output\" title=\"Kernel methods for vector output\">Kernel methods for vector output</a></li>\\n<li><a href=\"/wiki/Kernel_principal_component_analysis\" title=\"Kernel principal component analysis\">Kernel principal component analysis</a></li></ul></div><div class=\"mw-category-group\"><h3>L</h3>\\n<ul><li><a href=\"/wiki/Label_propagation_algorithm\" title=\"Label propagation algorithm\">Label propagation algorithm</a></li>\\n<li><a href=\"/wiki/Leabra\" title=\"Leabra\">Leabra</a></li>\\n<li><a href=\"/wiki/Linde%E2%80%93Buzo%E2%80%93Gray_algorithm\" title=\"Linde–Buzo–Gray algorithm\">Linde–Buzo–Gray algorithm</a></li>\\n<li><a href=\"/wiki/Local_outlier_factor\" title=\"Local outlier factor\">Local outlier factor</a></li>\\n<li><a href=\"/wiki/Logic_learning_machine\" title=\"Logic learning machine\">Logic learning machine</a></li>\\n<li><a href=\"/wiki/LogitBoost\" title=\"LogitBoost\">LogitBoost</a></li>\\n<li><a href=\"/wiki/Loss_functions_for_classification\" title=\"Loss functions for classification\">Loss functions for classification</a></li></ul></div><div class=\"mw-category-group\"><h3>M</h3>\\n<ul><li><a href=\"/wiki/Manifold_alignment\" title=\"Manifold alignment\">Manifold alignment</a></li>\\n<li><a href=\"/wiki/Minimum_redundancy_feature_selection\" title=\"Minimum redundancy feature selection\">Minimum redundancy feature selection</a></li>\\n<li><a href=\"/wiki/Mixture_of_experts\" title=\"Mixture of experts\">Mixture of experts</a></li>\\n<li><a href=\"/wiki/Multiple_kernel_learning\" title=\"Multiple kernel learning\">Multiple kernel learning</a></li></ul></div><div class=\"mw-category-group\"><h3>N</h3>\\n<ul><li><a href=\"/wiki/Non-negative_matrix_factorization\" title=\"Non-negative matrix factorization\">Non-negative matrix factorization</a></li></ul></div><div class=\"mw-category-group\"><h3>O</h3>\\n<ul><li><a href=\"/wiki/Online_machine_learning\" title=\"Online machine learning\">Online machine learning</a></li>\\n<li><a href=\"/wiki/Out-of-bag_error\" title=\"Out-of-bag error\">Out-of-bag error</a></li></ul></div><div class=\"mw-category-group\"><h3>P</h3>\\n<ul><li><a href=\"/wiki/Prefrontal_cortex_basal_ganglia_working_memory\" title=\"Prefrontal cortex basal ganglia working memory\">Prefrontal cortex basal ganglia working memory</a></li>\\n<li><a href=\"/wiki/Prototype_methods\" title=\"Prototype methods\">Prototype methods</a></li>\\n<li><a href=\"/wiki/PVLV\" title=\"PVLV\">PVLV</a></li></ul></div><div class=\"mw-category-group\"><h3>Q</h3>\\n<ul><li><a href=\"/wiki/Q-learning\" title=\"Q-learning\">Q-learning</a></li>\\n<li><a href=\"/wiki/Quadratic_unconstrained_binary_optimization\" title=\"Quadratic unconstrained binary optimization\">Quadratic unconstrained binary optimization</a></li>\\n<li><a href=\"/wiki/Query-level_feature\" title=\"Query-level feature\">Query-level feature</a></li>\\n<li><a href=\"/wiki/Quickprop\" title=\"Quickprop\">Quickprop</a></li></ul></div><div class=\"mw-category-group\"><h3>R</h3>\\n<ul><li><a href=\"/wiki/Radial_basis_function_network\" title=\"Radial basis function network\">Radial basis function network</a></li>\\n<li><a href=\"/wiki/Randomized_weighted_majority_algorithm\" title=\"Randomized weighted majority algorithm\">Randomized weighted majority algorithm</a></li>\\n<li><a href=\"/wiki/Repeated_incremental_pruning_to_produce_error_reduction_(RIPPER)\" title=\"Repeated incremental pruning to produce error reduction (RIPPER)\">Repeated incremental pruning to produce error reduction (RIPPER)</a></li>\\n<li><a href=\"/wiki/Rprop\" title=\"Rprop\">Rprop</a></li>\\n<li><a href=\"/wiki/Rule-based_machine_learning\" title=\"Rule-based machine learning\">Rule-based machine learning</a></li></ul></div><div class=\"mw-category-group\"><h3>S</h3>\\n<ul><li><a href=\"/wiki/Skill_chaining\" title=\"Skill chaining\">Skill chaining</a></li>\\n<li><a href=\"/wiki/Sparse_PCA\" title=\"Sparse PCA\">Sparse PCA</a></li>\\n<li><a href=\"/wiki/State%E2%80%93action%E2%80%93reward%E2%80%93state%E2%80%93action\" title=\"State–action–reward–state–action\">State–action–reward–state–action</a></li>\\n<li><a href=\"/wiki/User:Tsbertalan/Reinforcement_Learning\" title=\"User:Tsbertalan/Reinforcement Learning\">User:Tsbertalan/Reinforcement Learning</a></li>\\n<li><a href=\"/wiki/Stochastic_gradient_descent\" title=\"Stochastic gradient descent\">Stochastic gradient descent</a></li>\\n<li><a href=\"/wiki/Structured_kNN\" title=\"Structured kNN\">Structured kNN</a></li></ul></div><div class=\"mw-category-group\"><h3>T</h3>\\n<ul><li><a href=\"/wiki/T-distributed_stochastic_neighbor_embedding\" title=\"T-distributed stochastic neighbor embedding\">T-distributed stochastic neighbor embedding</a></li>\\n<li><a href=\"/wiki/Triplet_loss\" title=\"Triplet loss\">Triplet loss</a></li></ul></div><div class=\"mw-category-group\"><h3>W</h3>\\n<ul><li><a href=\"/wiki/Wake-sleep_algorithm\" title=\"Wake-sleep algorithm\">Wake-sleep algorithm</a></li>\\n<li><a href=\"/wiki/Weighted_majority_algorithm_(machine_learning)\" title=\"Weighted majority algorithm (machine learning)\">Weighted majority algorithm (machine learning)</a></li></ul></div><div class=\"mw-category-group\"><h3>Z</h3>\\n<ul><li><a href=\"/wiki/Zero-shot_learning\" title=\"Zero-shot learning\">Zero-shot learning</a></li></ul></div></div></div>\\n</div></div><noscript><img src=\"//en.wikipedia.org/wiki/Special:CentralAutoLogin/start?type=1x1\" alt=\"\" title=\"\" width=\"1\" height=\"1\" style=\"border: none; position: absolute;\" /></noscript></div>\\n\\t\\t<div class=\"printfooter\">Retrieved from \"<a dir=\"ltr\" href=\"https://en.wikipedia.org/w/index.php?title=Category:Machine_learning_algorithms&amp;oldid=902071604\">https://en.wikipedia.org/w/index.php?title=Category:Machine_learning_algorithms&amp;oldid=902071604</a>\"</div>\\n\\t\\t<div id=\"catlinks\" class=\"catlinks\" data-mw=\"interface\"><div id=\"mw-normal-catlinks\" class=\"mw-normal-catlinks\"><a href=\"/wiki/Help:Category\" title=\"Help:Category\">Categories</a>: <ul><li><a href=\"/wiki/Category:Machine_learning\" title=\"Category:Machine learning\">Machine learning</a></li><li><a href=\"/wiki/Category:Algorithms\" title=\"Category:Algorithms\">Algorithms</a></li></ul></div><div id=\"mw-hidden-catlinks\" class=\"mw-hidden-catlinks mw-hidden-cats-ns-shown\">Hidden categories: <ul><li><a href=\"/wiki/Category:Commons_category_link_is_on_Wikidata\" title=\"Category:Commons category link is on Wikidata\">Commons category link is on Wikidata</a></li></ul></div></div>\\n\\t\\t<div class=\"visualClear\"></div>\\n\\t\\t\\n\\t</div>\\n</div>\\n<div id=\\'mw-data-after-content\\'>\\n\\t<div class=\"read-more-container\"></div>\\n</div>\\n\\n<div id=\"mw-navigation\">\\n\\t<h2>Navigation menu</h2>\\n\\t<div id=\"mw-head\">\\n\\t\\t\\n<div id=\"p-personal\" role=\"navigation\" class=\"\" aria-labelledby=\"p-personal-label\">\\n\\t<h3 id=\"p-personal-label\">Personal tools</h3>\\n\\t<ul >\\n\\t\\t<li id=\"pt-anonuserpage\">Not logged in</li><li id=\"pt-anontalk\"><a href=\"/wiki/Special:MyTalk\" title=\"Discussion about edits from this IP address [n]\" accesskey=\"n\">Talk</a></li><li id=\"pt-anoncontribs\"><a href=\"/wiki/Special:MyContributions\" title=\"A list of edits made from this IP address [y]\" accesskey=\"y\">Contributions</a></li><li id=\"pt-createaccount\"><a href=\"/w/index.php?title=Special:CreateAccount&amp;returnto=Category%3AMachine+learning+algorithms\" title=\"You are encouraged to create an account and log in; however, it is not mandatory\">Create account</a></li><li id=\"pt-login\"><a href=\"/w/index.php?title=Special:UserLogin&amp;returnto=Category%3AMachine+learning+algorithms\" title=\"You&#039;re encouraged to log in; however, it&#039;s not mandatory. [o]\" accesskey=\"o\">Log in</a></li>\\n\\t</ul>\\n</div>\\n\\n\\t\\t<div id=\"left-navigation\">\\n\\t\\t\\t<div id=\"p-namespaces\" role=\"navigation\" class=\"vectorTabs\" aria-labelledby=\"p-namespaces-label\">\\n\\t<h3 id=\"p-namespaces-label\">Namespaces</h3>\\n\\t<ul >\\n\\t\\t<li id=\"ca-nstab-category\" class=\"selected\"><a href=\"/wiki/Category:Machine_learning_algorithms\" title=\"View the category page [c]\" accesskey=\"c\">Category</a></li><li id=\"ca-talk\" class=\"new\"><a href=\"/w/index.php?title=Category_talk:Machine_learning_algorithms&amp;action=edit&amp;redlink=1\" rel=\"discussion\" title=\"Discuss improvements to the content page (page does not exist) [t]\" accesskey=\"t\">Talk</a></li>\\n\\t</ul>\\n</div>\\n\\n\\t\\t\\t<div id=\"p-variants\" role=\"navigation\" class=\"emptyPortlet vectorMenu\" aria-labelledby=\"p-variants-label\">\\n\\t<input type=\"checkbox\" class=\"vectorMenuCheckbox\" aria-labelledby=\"p-variants-label\" />\\n\\t<h3 id=\"p-variants-label\">\\n\\t\\t<span>Variants</span>\\n\\t</h3>\\n\\t<ul class=\"menu\" >\\n\\t\\t\\n\\t</ul>\\n</div>\\n\\n\\t\\t</div>\\n\\t\\t<div id=\"right-navigation\">\\n\\t\\t\\t<div id=\"p-views\" role=\"navigation\" class=\"vectorTabs\" aria-labelledby=\"p-views-label\">\\n\\t<h3 id=\"p-views-label\">Views</h3>\\n\\t<ul >\\n\\t\\t<li id=\"ca-view\" class=\"collapsible selected\"><a href=\"/wiki/Category:Machine_learning_algorithms\">Read</a></li><li id=\"ca-edit\" class=\"collapsible\"><a href=\"/w/index.php?title=Category:Machine_learning_algorithms&amp;action=edit\" title=\"Edit this page [e]\" accesskey=\"e\">Edit</a></li><li id=\"ca-history\" class=\"collapsible\"><a href=\"/w/index.php?title=Category:Machine_learning_algorithms&amp;action=history\" title=\"Past revisions of this page [h]\" accesskey=\"h\">View history</a></li>\\n\\t</ul>\\n</div>\\n\\n\\t\\t\\t<div id=\"p-cactions\" role=\"navigation\" class=\"emptyPortlet vectorMenu\" aria-labelledby=\"p-cactions-label\">\\n\\t<input type=\"checkbox\" class=\"vectorMenuCheckbox\" aria-labelledby=\"p-cactions-label\" />\\n\\t<h3 id=\"p-cactions-label\">\\n\\t\\t<span>More</span>\\n\\t</h3>\\n\\t<ul class=\"menu\" >\\n\\t\\t\\n\\t</ul>\\n</div>\\n\\n\\t\\t\\t<div id=\"p-search\" role=\"search\">\\n\\t<h3 >\\n\\t\\t<label for=\"searchInput\">Search</label>\\n\\t</h3>\\n\\t<form action=\"/w/index.php\" id=\"searchform\">\\n\\t\\t<div id=\"simpleSearch\">\\n\\t\\t\\t<input type=\"search\" name=\"search\" placeholder=\"Search Wikipedia\" title=\"Search Wikipedia [f]\" accesskey=\"f\" id=\"searchInput\"/>\\n\\t\\t\\t<input type=\"hidden\" value=\"Special:Search\" name=\"title\"/>\\n\\t\\t\\t<input type=\"submit\" name=\"fulltext\" value=\"Search\" title=\"Search Wikipedia for this text\" id=\"mw-searchButton\" class=\"searchButton mw-fallbackSearchButton\"/>\\n\\t\\t\\t<input type=\"submit\" name=\"go\" value=\"Go\" title=\"Go to a page with this exact name if it exists\" id=\"searchButton\" class=\"searchButton\"/>\\n\\t\\t</div>\\n\\t</form>\\n</div>\\n\\n\\t\\t</div>\\n\\t</div>\\n\\t\\n<div id=\"mw-panel\">\\n\\t<div id=\"p-logo\" role=\"banner\">\\n\\t\\t<a  title=\"Visit the main page\" class=\"mw-wiki-logo\" href=\"/wiki/Main_Page\"></a>\\n\\t</div>\\n\\t<div class=\"portal portal-first\" role=\"navigation\" id=\"p-navigation\"  aria-labelledby=\"p-navigation-label\">\\n\\t<h3  id=\"p-navigation-label\">\\n\\t\\tNavigation\\n\\t</h3>\\n\\t<div class=\"body\">\\n\\t\\t<ul><li id=\"n-mainpage-description\"><a href=\"/wiki/Main_Page\" title=\"Visit the main page [z]\" accesskey=\"z\">Main page</a></li><li id=\"n-contents\"><a href=\"/wiki/Wikipedia:Contents\" title=\"Guides to browsing Wikipedia\">Contents</a></li><li id=\"n-featuredcontent\"><a href=\"/wiki/Wikipedia:Featured_content\" title=\"Featured content – the best of Wikipedia\">Featured content</a></li><li id=\"n-currentevents\"><a href=\"/wiki/Portal:Current_events\" title=\"Find background information on current events\">Current events</a></li><li id=\"n-randompage\"><a href=\"/wiki/Special:Random\" title=\"Load a random article [x]\" accesskey=\"x\">Random article</a></li><li id=\"n-sitesupport\"><a href=\"https://donate.wikimedia.org/wiki/Special:FundraiserRedirector?utm_source=donate&amp;utm_medium=sidebar&amp;utm_campaign=C13_en.wikipedia.org&amp;uselang=en\" title=\"Support us\">Donate to Wikipedia</a></li><li id=\"n-shoplink\"><a href=\"//shop.wikimedia.org\" title=\"Visit the Wikipedia store\">Wikipedia store</a></li></ul>\\n\\t\\t\\n\\t</div>\\n</div>\\n\\n\\n\\t<div class=\"portal\" role=\"navigation\" id=\"p-interaction\"  aria-labelledby=\"p-interaction-label\">\\n\\t<h3  id=\"p-interaction-label\">\\n\\t\\tInteraction\\n\\t</h3>\\n\\t<div class=\"body\">\\n\\t\\t<ul><li id=\"n-help\"><a href=\"/wiki/Help:Contents\" title=\"Guidance on how to use and edit Wikipedia\">Help</a></li><li id=\"n-aboutsite\"><a href=\"/wiki/Wikipedia:About\" title=\"Find out about Wikipedia\">About Wikipedia</a></li><li id=\"n-portal\"><a href=\"/wiki/Wikipedia:Community_portal\" title=\"About the project, what you can do, where to find things\">Community portal</a></li><li id=\"n-recentchanges\"><a href=\"/wiki/Special:RecentChanges\" title=\"A list of recent changes in the wiki [r]\" accesskey=\"r\">Recent changes</a></li><li id=\"n-contactpage\"><a href=\"//en.wikipedia.org/wiki/Wikipedia:Contact_us\" title=\"How to contact Wikipedia\">Contact page</a></li></ul>\\n\\t\\t\\n\\t</div>\\n</div>\\n\\n<div class=\"portal\" role=\"navigation\" id=\"p-tb\"  aria-labelledby=\"p-tb-label\">\\n\\t<h3  id=\"p-tb-label\">\\n\\t\\tTools\\n\\t</h3>\\n\\t<div class=\"body\">\\n\\t\\t<ul><li id=\"t-whatlinkshere\"><a href=\"/wiki/Special:WhatLinksHere/Category:Machine_learning_algorithms\" title=\"List of all English Wikipedia pages containing links to this page [j]\" accesskey=\"j\">What links here</a></li><li id=\"t-recentchangeslinked\"><a href=\"/wiki/Special:RecentChangesLinked/Category:Machine_learning_algorithms\" rel=\"nofollow\" title=\"Recent changes in pages linked from this page [k]\" accesskey=\"k\">Related changes</a></li><li id=\"t-upload\"><a href=\"/wiki/Wikipedia:File_Upload_Wizard\" title=\"Upload files [u]\" accesskey=\"u\">Upload file</a></li><li id=\"t-specialpages\"><a href=\"/wiki/Special:SpecialPages\" title=\"A list of all special pages [q]\" accesskey=\"q\">Special pages</a></li><li id=\"t-permalink\"><a href=\"/w/index.php?title=Category:Machine_learning_algorithms&amp;oldid=902071604\" title=\"Permanent link to this revision of the page\">Permanent link</a></li><li id=\"t-info\"><a href=\"/w/index.php?title=Category:Machine_learning_algorithms&amp;action=info\" title=\"More information about this page\">Page information</a></li><li id=\"t-wikibase\"><a href=\"https://www.wikidata.org/wiki/Special:EntityPage/Q8592571\" title=\"Link to connected data repository item [g]\" accesskey=\"g\">Wikidata item</a></li></ul>\\n\\t\\t\\n\\t</div>\\n</div>\\n\\n<div class=\"portal\" role=\"navigation\" id=\"p-wikibase-otherprojects\"  aria-labelledby=\"p-wikibase-otherprojects-label\">\\n\\t<h3  id=\"p-wikibase-otherprojects-label\">\\n\\t\\tIn other projects\\n\\t</h3>\\n\\t<div class=\"body\">\\n\\t\\t<ul><li class=\"wb-otherproject-link wb-otherproject-commons\"><a href=\"https://commons.wikimedia.org/wiki/Category:Machine_learning_algorithms\" hreflang=\"en\">Wikimedia Commons</a></li></ul>\\n\\t\\t\\n\\t</div>\\n</div>\\n\\n<div class=\"portal\" role=\"navigation\" id=\"p-coll-print_export\"  aria-labelledby=\"p-coll-print_export-label\">\\n\\t<h3  id=\"p-coll-print_export-label\">\\n\\t\\tPrint/export\\n\\t</h3>\\n\\t<div class=\"body\">\\n\\t\\t<ul><li id=\"coll-download-as-rl\"><a href=\"/w/index.php?title=Special:ElectronPdf&amp;page=Category%3AMachine+learning+algorithms&amp;action=show-download-screen\">Download as PDF</a></li><li id=\"t-print\"><a href=\"/w/index.php?title=Category:Machine_learning_algorithms&amp;printable=yes\" title=\"Printable version of this page [p]\" accesskey=\"p\">Printable version</a></li></ul>\\n\\t\\t\\n\\t</div>\\n</div>\\n\\n<div class=\"portal\" role=\"navigation\" id=\"p-lang\"  aria-labelledby=\"p-lang-label\">\\n\\t<h3  id=\"p-lang-label\">\\n\\t\\tLanguages\\n\\t</h3>\\n\\t<div class=\"body\">\\n\\t\\t<ul><li class=\"interlanguage-link interwiki-cs\"><a href=\"https://cs.wikipedia.org/wiki/Kategorie:Algoritmy_strojov%C3%A9ho_u%C4%8Den%C3%AD\" title=\"Kategorie:Algoritmy strojového učení – Czech\" lang=\"cs\" hreflang=\"cs\" class=\"interlanguage-link-target\">Čeština</a></li><li class=\"interlanguage-link interwiki-fa\"><a href=\"https://fa.wikipedia.org/wiki/%D8%B1%D8%AF%D9%87:%D8%A7%D9%84%DA%AF%D9%88%D8%B1%DB%8C%D8%AA%D9%85%E2%80%8C%D9%87%D8%A7%DB%8C_%DB%8C%D8%A7%D8%AF%DA%AF%DB%8C%D8%B1%DB%8C_%D9%85%D8%A7%D8%B4%DB%8C%D9%86%DB%8C\" title=\"رده:الگوریتم\\u200cهای یادگیری ماشینی – Persian\" lang=\"fa\" hreflang=\"fa\" class=\"interlanguage-link-target\">فارسی</a></li><li class=\"interlanguage-link interwiki-ko\"><a href=\"https://ko.wikipedia.org/wiki/%EB%B6%84%EB%A5%98:%EA%B8%B0%EA%B3%84_%ED%95%99%EC%8A%B5_%EC%95%8C%EA%B3%A0%EB%A6%AC%EC%A6%98\" title=\"분류:기계 학습 알고리즘 – Korean\" lang=\"ko\" hreflang=\"ko\" class=\"interlanguage-link-target\">한국어</a></li><li class=\"interlanguage-link interwiki-ja\"><a href=\"https://ja.wikipedia.org/wiki/Category:%E6%A9%9F%E6%A2%B0%E5%AD%A6%E7%BF%92%E3%82%A2%E3%83%AB%E3%82%B4%E3%83%AA%E3%82%BA%E3%83%A0\" title=\"Category:機械学習アルゴリズム – Japanese\" lang=\"ja\" hreflang=\"ja\" class=\"interlanguage-link-target\">日本語</a></li><li class=\"interlanguage-link interwiki-sr\"><a href=\"https://sr.wikipedia.org/wiki/%D0%9A%D0%B0%D1%82%D0%B5%D0%B3%D0%BE%D1%80%D0%B8%D1%98%D0%B0:%D0%90%D0%BB%D0%B3%D0%BE%D1%80%D0%B8%D1%82%D0%BC%D0%B8_%D0%BC%D0%B0%D1%88%D0%B8%D0%BD%D1%81%D0%BA%D0%BE%D0%B3_%D1%83%D1%87%D0%B5%D1%9A%D0%B0\" title=\"Категорија:Алгоритми машинског учења – Serbian\" lang=\"sr\" hreflang=\"sr\" class=\"interlanguage-link-target\">Српски / srpski</a></li><li class=\"interlanguage-link interwiki-sh\"><a href=\"https://sh.wikipedia.org/wiki/Kategorija:Algoritmi_ma%C5%A1inskog_u%C4%8Denja\" title=\"Kategorija:Algoritmi mašinskog učenja – Serbo-Croatian\" lang=\"sh\" hreflang=\"sh\" class=\"interlanguage-link-target\">Srpskohrvatski / српскохрватски</a></li><li class=\"interlanguage-link interwiki-uk\"><a href=\"https://uk.wikipedia.org/wiki/%D0%9A%D0%B0%D1%82%D0%B5%D0%B3%D0%BE%D1%80%D1%96%D1%8F:%D0%90%D0%BB%D0%B3%D0%BE%D1%80%D0%B8%D1%82%D0%BC%D0%B8_%D0%BC%D0%B0%D1%88%D0%B8%D0%BD%D0%BD%D0%BE%D0%B3%D0%BE_%D0%BD%D0%B0%D0%B2%D1%87%D0%B0%D0%BD%D0%BD%D1%8F\" title=\"Категорія:Алгоритми машинного навчання – Ukrainian\" lang=\"uk\" hreflang=\"uk\" class=\"interlanguage-link-target\">Українська</a></li><li class=\"interlanguage-link interwiki-zh\"><a href=\"https://zh.wikipedia.org/wiki/Category:%E6%A9%9F%E5%99%A8%E5%AD%B8%E7%BF%92%E6%BC%94%E7%AE%97%E6%B3%95\" title=\"Category:機器學習演算法 – Chinese\" lang=\"zh\" hreflang=\"zh\" class=\"interlanguage-link-target\">中文</a></li></ul>\\n\\t\\t<div class=\"after-portlet after-portlet-lang\"><span class=\"wb-langlinks-edit wb-langlinks-link\"><a href=\"https://www.wikidata.org/wiki/Special:EntityPage/Q8592571#sitelinks-wikipedia\" title=\"Edit interlanguage links\" class=\"wbc-editpage\">Edit links</a></span></div>\\n\\t</div>\\n</div>\\n\\n\\n</div>\\n\\n</div>\\n\\n<div id=\"footer\" class=\"mw-footer\" role=\"contentinfo\" >\\n\\t<ul id=\"footer-info\" >\\n\\t\\t<li id=\"footer-info-lastmod\"> This page was last edited on 16 June 2019, at 10:25<span class=\"anonymous-show\">&#160;(UTC)</span>.</li>\\n\\t\\t<li id=\"footer-info-copyright\">Text is available under the <a rel=\"license\" href=\"//en.wikipedia.org/wiki/Wikipedia:Text_of_Creative_Commons_Attribution-ShareAlike_3.0_Unported_License\">Creative Commons Attribution-ShareAlike License</a><a rel=\"license\" href=\"//creativecommons.org/licenses/by-sa/3.0/\" style=\"display:none;\"></a>;\\nadditional terms may apply.  By using this site, you agree to the <a href=\"//foundation.wikimedia.org/wiki/Terms_of_Use\">Terms of Use</a> and <a href=\"//foundation.wikimedia.org/wiki/Privacy_policy\">Privacy Policy</a>. Wikipedia® is a registered trademark of the <a href=\"//www.wikimediafoundation.org/\">Wikimedia Foundation, Inc.</a>, a non-profit organization.</li>\\n\\t</ul>\\n\\t<ul id=\"footer-places\" >\\n\\t\\t<li id=\"footer-places-privacy\"><a href=\"https://foundation.wikimedia.org/wiki/Privacy_policy\" class=\"extiw\" title=\"wmf:Privacy policy\">Privacy policy</a></li>\\n\\t\\t<li id=\"footer-places-about\"><a href=\"/wiki/Wikipedia:About\" title=\"Wikipedia:About\">About Wikipedia</a></li>\\n\\t\\t<li id=\"footer-places-disclaimer\"><a href=\"/wiki/Wikipedia:General_disclaimer\" title=\"Wikipedia:General disclaimer\">Disclaimers</a></li>\\n\\t\\t<li id=\"footer-places-contact\"><a href=\"//en.wikipedia.org/wiki/Wikipedia:Contact_us\">Contact Wikipedia</a></li>\\n\\t\\t<li id=\"footer-places-developers\"><a href=\"https://www.mediawiki.org/wiki/Special:MyLanguage/How_to_contribute\">Developers</a></li>\\n\\t\\t<li id=\"footer-places-statslink\"><a href=\"https://stats.wikimedia.org/#/en.wikipedia.org\">Statistics</a></li>\\n\\t\\t<li id=\"footer-places-cookiestatement\"><a href=\"https://foundation.wikimedia.org/wiki/Cookie_statement\">Cookie statement</a></li>\\n\\t\\t<li id=\"footer-places-mobileview\"><a href=\"//en.m.wikipedia.org/w/index.php?title=Category:Machine_learning_algorithms&amp;mobileaction=toggle_view_mobile\" class=\"noprint stopMobileRedirectToggle\">Mobile view</a></li>\\n\\t</ul>\\n\\t<ul id=\"footer-icons\" class=\"noprint\">\\n\\t\\t<li id=\"footer-copyrightico\"><a href=\"https://wikimediafoundation.org/\"><img src=\"/static/images/wikimedia-button.png\" srcset=\"/static/images/wikimedia-button-1.5x.png 1.5x, /static/images/wikimedia-button-2x.png 2x\" width=\"88\" height=\"31\" alt=\"Wikimedia Foundation\"/></a></li>\\n\\t\\t<li id=\"footer-poweredbyico\"><a href=\"https://www.mediawiki.org/\"><img src=\"/static/images/poweredby_mediawiki_88x31.png\" alt=\"Powered by MediaWiki\" srcset=\"/static/images/poweredby_mediawiki_132x47.png 1.5x, /static/images/poweredby_mediawiki_176x62.png 2x\" width=\"88\" height=\"31\"/></a></li>\\n\\t</ul>\\n\\t<div style=\"clear: both;\"></div>\\n</div>\\n\\n\\n<script>(RLQ=window.RLQ||[]).push(function(){mw.config.set({\"wgPageParseReport\":{\"limitreport\":{\"cputime\":\"0.064\",\"walltime\":\"0.100\",\"ppvisitednodes\":{\"value\":132,\"limit\":1000000},\"postexpandincludesize\":{\"value\":2909,\"limit\":2097152},\"templateargumentsize\":{\"value\":400,\"limit\":2097152},\"expansiondepth\":{\"value\":13,\"limit\":40},\"expensivefunctioncount\":{\"value\":0,\"limit\":500},\"unstrip-depth\":{\"value\":0,\"limit\":20},\"unstrip-size\":{\"value\":0,\"limit\":5000000},\"entityaccesscount\":{\"value\":0,\"limit\":400},\"timingprofile\":[\"100.00%   85.119      1 -total\",\" 75.76%   64.484      1 Template:Commons_category\",\" 71.38%   60.762      1 Template:Sister_project\",\" 67.36%   57.337      1 Template:Side_box\",\" 24.06%   20.479      1 Template:Cat_see_also\",\" 11.79%   10.033      1 Template:Replace\",\"  5.74%    4.885      1 Template:Category_see_also/Category_pair_check\"]},\"scribunto\":{\"limitreport-timeusage\":{\"value\":\"0.025\",\"limit\":\"10.000\"},\"limitreport-memusage\":{\"value\":1215452,\"limit\":52428800}},\"cachereport\":{\"origin\":\"mw1262\",\"timestamp\":\"20200517194112\",\"ttl\":2592000,\"transientcontent\":false}}});mw.config.set({\"wgBackendResponseTime\":155,\"wgHostname\":\"mw1366\"});});</script></body></html>\\n'"
      ]
     },
     "execution_count": 56,
     "metadata": {},
     "output_type": "execute_result"
    }
   ],
   "source": [
    "req1.text"
   ]
  },
  {
   "cell_type": "markdown",
   "metadata": {},
   "source": [
    "div class='mw-category' - все категории "
   ]
  },
  {
   "cell_type": "code",
   "execution_count": 57,
   "metadata": {},
   "outputs": [],
   "source": [
    "parser = bs4.BeautifulSoup(req1.text, 'lxml')"
   ]
  },
  {
   "cell_type": "code",
   "execution_count": 88,
   "metadata": {},
   "outputs": [
    {
     "data": {
      "text/plain": [
       "[<div class=\"mw-category-group\"><h3>A</h3>\n",
       " <ul><li><span class=\"redirect-in-category\"><a class=\"mw-redirect\" href=\"/wiki/Adagrad\" title=\"Adagrad\">Adagrad</a></span></li>\n",
       " <li><a href=\"/wiki/Algorithms_of_Oppression\" title=\"Algorithms of Oppression\">Algorithms of Oppression</a></li>\n",
       " <li><a href=\"/wiki/Almeida%E2%80%93Pineda_recurrent_backpropagation\" title=\"Almeida–Pineda recurrent backpropagation\">Almeida–Pineda recurrent backpropagation</a></li></ul></div>,\n",
       " <div class=\"mw-category-group\"><h3>B</h3>\n",
       " <ul><li><a href=\"/wiki/Backpropagation\" title=\"Backpropagation\">Backpropagation</a></li>\n",
       " <li><a href=\"/wiki/Bioz\" title=\"Bioz\">Bioz</a></li>\n",
       " <li><a href=\"/wiki/Bootstrap_aggregating\" title=\"Bootstrap aggregating\">Bootstrap aggregating</a></li></ul></div>,\n",
       " <div class=\"mw-category-group\"><h3>C</h3>\n",
       " <ul><li><a href=\"/wiki/CN2_algorithm\" title=\"CN2 algorithm\">CN2 algorithm</a></li>\n",
       " <li><a href=\"/wiki/Constructing_skill_trees\" title=\"Constructing skill trees\">Constructing skill trees</a></li></ul></div>,\n",
       " <div class=\"mw-category-group\"><h3>D</h3>\n",
       " <ul><li><a href=\"/wiki/Deep_reinforcement_learning\" title=\"Deep reinforcement learning\">Deep reinforcement learning</a></li>\n",
       " <li><a href=\"/wiki/Dehaene%E2%80%93Changeux_model\" title=\"Dehaene–Changeux model\">Dehaene–Changeux model</a></li>\n",
       " <li><a href=\"/wiki/Diffusion_map\" title=\"Diffusion map\">Diffusion map</a></li>\n",
       " <li><a href=\"/wiki/Dominance-based_rough_set_approach\" title=\"Dominance-based rough set approach\">Dominance-based rough set approach</a></li>\n",
       " <li><a href=\"/wiki/Dynamic_time_warping\" title=\"Dynamic time warping\">Dynamic time warping</a></li></ul></div>,\n",
       " <div class=\"mw-category-group\"><h3>E</h3>\n",
       " <ul><li><a href=\"/wiki/Elastic_net_regularization\" title=\"Elastic net regularization\">Elastic net regularization</a></li>\n",
       " <li><a href=\"/wiki/Error-driven_learning\" title=\"Error-driven learning\">Error-driven learning</a></li>\n",
       " <li><a href=\"/wiki/Evolutionary_multimodal_optimization\" title=\"Evolutionary multimodal optimization\">Evolutionary multimodal optimization</a></li>\n",
       " <li><a href=\"/wiki/Expectation%E2%80%93maximization_algorithm\" title=\"Expectation–maximization algorithm\">Expectation–maximization algorithm</a></li>\n",
       " <li><a href=\"/wiki/Extremal_Ensemble_Learning\" title=\"Extremal Ensemble Learning\">Extremal Ensemble Learning</a></li></ul></div>,\n",
       " <div class=\"mw-category-group\"><h3>F</h3>\n",
       " <ul><li><a href=\"/wiki/FastICA\" title=\"FastICA\">FastICA</a></li>\n",
       " <li><a href=\"/wiki/Forward%E2%80%93backward_algorithm\" title=\"Forward–backward algorithm\">Forward–backward algorithm</a></li></ul></div>,\n",
       " <div class=\"mw-category-group\"><h3>G</h3>\n",
       " <ul><li><a href=\"/wiki/GeneRec\" title=\"GeneRec\">GeneRec</a></li>\n",
       " <li><a href=\"/wiki/Genetic_Algorithm_for_Rule_Set_Production\" title=\"Genetic Algorithm for Rule Set Production\">Genetic Algorithm for Rule Set Production</a></li>\n",
       " <li><a href=\"/wiki/Growing_self-organizing_map\" title=\"Growing self-organizing map\">Growing self-organizing map</a></li></ul></div>,\n",
       " <div class=\"mw-category-group\"><h3>H</h3>\n",
       " <ul><li><a href=\"/wiki/Hyper_basis_function_network\" title=\"Hyper basis function network\">Hyper basis function network</a></li></ul></div>,\n",
       " <div class=\"mw-category-group\"><h3>I</h3>\n",
       " <ul><li><a href=\"/wiki/IDistance\" title=\"IDistance\">IDistance</a></li></ul></div>,\n",
       " <div class=\"mw-category-group\"><h3>K</h3>\n",
       " <ul><li><a href=\"/wiki/K-nearest_neighbors_algorithm\" title=\"K-nearest neighbors algorithm\">K-nearest neighbors algorithm</a></li>\n",
       " <li><a href=\"/wiki/Kernel_methods_for_vector_output\" title=\"Kernel methods for vector output\">Kernel methods for vector output</a></li>\n",
       " <li><a href=\"/wiki/Kernel_principal_component_analysis\" title=\"Kernel principal component analysis\">Kernel principal component analysis</a></li></ul></div>,\n",
       " <div class=\"mw-category-group\"><h3>L</h3>\n",
       " <ul><li><a href=\"/wiki/Label_propagation_algorithm\" title=\"Label propagation algorithm\">Label propagation algorithm</a></li>\n",
       " <li><a href=\"/wiki/Leabra\" title=\"Leabra\">Leabra</a></li>\n",
       " <li><a href=\"/wiki/Linde%E2%80%93Buzo%E2%80%93Gray_algorithm\" title=\"Linde–Buzo–Gray algorithm\">Linde–Buzo–Gray algorithm</a></li>\n",
       " <li><a href=\"/wiki/Local_outlier_factor\" title=\"Local outlier factor\">Local outlier factor</a></li>\n",
       " <li><a href=\"/wiki/Logic_learning_machine\" title=\"Logic learning machine\">Logic learning machine</a></li>\n",
       " <li><a href=\"/wiki/LogitBoost\" title=\"LogitBoost\">LogitBoost</a></li>\n",
       " <li><a href=\"/wiki/Loss_functions_for_classification\" title=\"Loss functions for classification\">Loss functions for classification</a></li></ul></div>,\n",
       " <div class=\"mw-category-group\"><h3>M</h3>\n",
       " <ul><li><a href=\"/wiki/Manifold_alignment\" title=\"Manifold alignment\">Manifold alignment</a></li>\n",
       " <li><a href=\"/wiki/Minimum_redundancy_feature_selection\" title=\"Minimum redundancy feature selection\">Minimum redundancy feature selection</a></li>\n",
       " <li><a href=\"/wiki/Mixture_of_experts\" title=\"Mixture of experts\">Mixture of experts</a></li>\n",
       " <li><a href=\"/wiki/Multiple_kernel_learning\" title=\"Multiple kernel learning\">Multiple kernel learning</a></li></ul></div>,\n",
       " <div class=\"mw-category-group\"><h3>N</h3>\n",
       " <ul><li><a href=\"/wiki/Non-negative_matrix_factorization\" title=\"Non-negative matrix factorization\">Non-negative matrix factorization</a></li></ul></div>,\n",
       " <div class=\"mw-category-group\"><h3>O</h3>\n",
       " <ul><li><a href=\"/wiki/Online_machine_learning\" title=\"Online machine learning\">Online machine learning</a></li>\n",
       " <li><a href=\"/wiki/Out-of-bag_error\" title=\"Out-of-bag error\">Out-of-bag error</a></li></ul></div>,\n",
       " <div class=\"mw-category-group\"><h3>P</h3>\n",
       " <ul><li><a href=\"/wiki/Prefrontal_cortex_basal_ganglia_working_memory\" title=\"Prefrontal cortex basal ganglia working memory\">Prefrontal cortex basal ganglia working memory</a></li>\n",
       " <li><a href=\"/wiki/Prototype_methods\" title=\"Prototype methods\">Prototype methods</a></li>\n",
       " <li><a href=\"/wiki/PVLV\" title=\"PVLV\">PVLV</a></li></ul></div>,\n",
       " <div class=\"mw-category-group\"><h3>Q</h3>\n",
       " <ul><li><a href=\"/wiki/Q-learning\" title=\"Q-learning\">Q-learning</a></li>\n",
       " <li><a href=\"/wiki/Quadratic_unconstrained_binary_optimization\" title=\"Quadratic unconstrained binary optimization\">Quadratic unconstrained binary optimization</a></li>\n",
       " <li><a href=\"/wiki/Query-level_feature\" title=\"Query-level feature\">Query-level feature</a></li>\n",
       " <li><a href=\"/wiki/Quickprop\" title=\"Quickprop\">Quickprop</a></li></ul></div>,\n",
       " <div class=\"mw-category-group\"><h3>R</h3>\n",
       " <ul><li><a href=\"/wiki/Radial_basis_function_network\" title=\"Radial basis function network\">Radial basis function network</a></li>\n",
       " <li><a href=\"/wiki/Randomized_weighted_majority_algorithm\" title=\"Randomized weighted majority algorithm\">Randomized weighted majority algorithm</a></li>\n",
       " <li><a href=\"/wiki/Repeated_incremental_pruning_to_produce_error_reduction_(RIPPER)\" title=\"Repeated incremental pruning to produce error reduction (RIPPER)\">Repeated incremental pruning to produce error reduction (RIPPER)</a></li>\n",
       " <li><a href=\"/wiki/Rprop\" title=\"Rprop\">Rprop</a></li>\n",
       " <li><a href=\"/wiki/Rule-based_machine_learning\" title=\"Rule-based machine learning\">Rule-based machine learning</a></li></ul></div>,\n",
       " <div class=\"mw-category-group\"><h3>S</h3>\n",
       " <ul><li><a href=\"/wiki/Skill_chaining\" title=\"Skill chaining\">Skill chaining</a></li>\n",
       " <li><a href=\"/wiki/Sparse_PCA\" title=\"Sparse PCA\">Sparse PCA</a></li>\n",
       " <li><a href=\"/wiki/State%E2%80%93action%E2%80%93reward%E2%80%93state%E2%80%93action\" title=\"State–action–reward–state–action\">State–action–reward–state–action</a></li>\n",
       " <li><a href=\"/wiki/User:Tsbertalan/Reinforcement_Learning\" title=\"User:Tsbertalan/Reinforcement Learning\">User:Tsbertalan/Reinforcement Learning</a></li>\n",
       " <li><a href=\"/wiki/Stochastic_gradient_descent\" title=\"Stochastic gradient descent\">Stochastic gradient descent</a></li>\n",
       " <li><a href=\"/wiki/Structured_kNN\" title=\"Structured kNN\">Structured kNN</a></li></ul></div>,\n",
       " <div class=\"mw-category-group\"><h3>T</h3>\n",
       " <ul><li><a href=\"/wiki/T-distributed_stochastic_neighbor_embedding\" title=\"T-distributed stochastic neighbor embedding\">T-distributed stochastic neighbor embedding</a></li>\n",
       " <li><a href=\"/wiki/Triplet_loss\" title=\"Triplet loss\">Triplet loss</a></li></ul></div>,\n",
       " <div class=\"mw-category-group\"><h3>W</h3>\n",
       " <ul><li><a href=\"/wiki/Wake-sleep_algorithm\" title=\"Wake-sleep algorithm\">Wake-sleep algorithm</a></li>\n",
       " <li><a href=\"/wiki/Weighted_majority_algorithm_(machine_learning)\" title=\"Weighted majority algorithm (machine learning)\">Weighted majority algorithm (machine learning)</a></li></ul></div>,\n",
       " <div class=\"mw-category-group\"><h3>Z</h3>\n",
       " <ul><li><a href=\"/wiki/Zero-shot_learning\" title=\"Zero-shot learning\">Zero-shot learning</a></li></ul></div>]"
      ]
     },
     "execution_count": 88,
     "metadata": {},
     "output_type": "execute_result"
    }
   ],
   "source": [
    "parser.findAll('div', attrs={'class':'mw-category-group'})"
   ]
  },
  {
   "cell_type": "code",
   "execution_count": 125,
   "metadata": {},
   "outputs": [],
   "source": [
    "z = parser.findAll('div', attrs={'class':'mw-category-group'})"
   ]
  },
  {
   "cell_type": "code",
   "execution_count": 147,
   "metadata": {},
   "outputs": [
    {
     "name": "stdout",
     "output_type": "stream",
     "text": [
      "Adagrad\n",
      "Algorithms of Oppression\n",
      "Almeida–Pineda recurrent backpropagation\n",
      "Backpropagation\n",
      "Bioz\n",
      "Bootstrap aggregating\n",
      "CN2 algorithm\n",
      "Constructing skill trees\n",
      "Deep reinforcement learning\n",
      "Dehaene–Changeux model\n",
      "Diffusion map\n",
      "Dominance-based rough set approach\n",
      "Dynamic time warping\n",
      "Elastic net regularization\n",
      "Error-driven learning\n",
      "Evolutionary multimodal optimization\n",
      "Expectation–maximization algorithm\n",
      "Extremal Ensemble Learning\n",
      "FastICA\n",
      "Forward–backward algorithm\n",
      "GeneRec\n",
      "Genetic Algorithm for Rule Set Production\n",
      "Growing self-organizing map\n",
      "Hyper basis function network\n",
      "IDistance\n",
      "K-nearest neighbors algorithm\n",
      "Kernel methods for vector output\n",
      "Kernel principal component analysis\n",
      "Label propagation algorithm\n",
      "Leabra\n",
      "Linde–Buzo–Gray algorithm\n",
      "Local outlier factor\n",
      "Logic learning machine\n",
      "LogitBoost\n",
      "Loss functions for classification\n",
      "Manifold alignment\n",
      "Minimum redundancy feature selection\n",
      "Mixture of experts\n",
      "Multiple kernel learning\n",
      "Non-negative matrix factorization\n",
      "Online machine learning\n",
      "Out-of-bag error\n",
      "Prefrontal cortex basal ganglia working memory\n",
      "Prototype methods\n",
      "PVLV\n",
      "Q-learning\n",
      "Quadratic unconstrained binary optimization\n",
      "Query-level feature\n",
      "Quickprop\n",
      "Radial basis function network\n",
      "Randomized weighted majority algorithm\n",
      "Repeated incremental pruning to produce error reduction (RIPPER)\n",
      "Rprop\n",
      "Rule-based machine learning\n",
      "Skill chaining\n",
      "Sparse PCA\n",
      "State–action–reward–state–action\n",
      "User:Tsbertalan/Reinforcement Learning\n",
      "Stochastic gradient descent\n",
      "Structured kNN\n",
      "T-distributed stochastic neighbor embedding\n",
      "Triplet loss\n",
      "Wake-sleep algorithm\n",
      "Weighted majority algorithm (machine learning)\n",
      "Zero-shot learning\n"
     ]
    }
   ],
   "source": [
    "for block in z:\n",
    "    block1 = block.findAll('a')\n",
    "    \n",
    "    for i in block1:\n",
    "        \n",
    "        print (i.attrs['title'])\n",
    "        "
   ]
  },
  {
   "cell_type": "code",
   "execution_count": null,
   "metadata": {},
   "outputs": [],
   "source": []
  }
 ],
 "metadata": {
  "anaconda-cloud": {},
  "kernelspec": {
   "display_name": "Python 3",
   "language": "python",
   "name": "python3"
  },
  "language_info": {
   "codemirror_mode": {
    "name": "ipython",
    "version": 3
   },
   "file_extension": ".py",
   "mimetype": "text/x-python",
   "name": "python",
   "nbconvert_exporter": "python",
   "pygments_lexer": "ipython3",
   "version": "3.7.3"
  }
 },
 "nbformat": 4,
 "nbformat_minor": 1
}
