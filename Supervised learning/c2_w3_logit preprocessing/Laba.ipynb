{
 "cells": [
  {
   "cell_type": "markdown",
   "metadata": {},
   "source": [
    "Кат признаки  - это признаки которые нельзя сравнить по приниципу больше/меньше. можно только проверять на равенство.\n",
    "города, цвета, мебель и так далее.\n",
    "например, список из катег. признаков  - ['красный', ' синий, 'зеленый', 'белый']\n",
    "\n",
    "\n"
   ]
  },
  {
   "cell_type": "markdown",
   "metadata": {},
   "source": [
    "1)первым делом при обработки любых признаков необходимо проверка на пустоты и заполнение пустых значений. пустые значения кат. признаков можно заполнить строками, которых нет в описании признака , например \"Na\" \n",
    "1. создать список из наименований столбцов категор. признаков - categorical_cols\n",
    "2. обратиться к датасету по этому списку и с пом. метода fillna заполнить все пустые ячейки\n",
    "\n",
    "dataset[categorical_cols].fillna('NA')\n"
   ]
  },
  {
   "cell_type": "markdown",
   "metadata": {},
   "source": [
    "2) далее . для работы с кат. признаками используется бинарное кодирование. т.е. каждомму объекту присваивается значение 1, если значение соответ-ет i-му признаку и 0, если !=. таким образов на выходе получаем матрицу n*m ,где n - число объектов, а m - число уникальных признаков (для одного столбца признаков) - данный метод носит название  One-Hot Encoding"
   ]
  },
  {
   "cell_type": "markdown",
   "metadata": {},
   "source": [
    "One-Hot Encoding лежит в в sklearn.preprocessing"
   ]
  },
  {
   "cell_type": "code",
   "execution_count": 38,
   "metadata": {},
   "outputs": [],
   "source": [
    "mod=preprocessing.OneHotEncoder(sparse=False) # возвращает массив\n",
    "mod.fit_transform(dataset[categorical_cols]) # обучает и трансформирует "
   ]
  },
  {
   "cell_type": "code",
   "execution_count": 40,
   "metadata": {},
   "outputs": [
    {
     "name": "stdout",
     "output_type": "stream",
     "text": [
      "     color\n",
      "1  красный\n",
      "2    белый\n",
      "3  зеленый\n",
      "4    белый\n"
     ]
    }
   ],
   "source": [
    "import pandas as pd\n",
    "df=pd.DataFrame({'color':['красный', 'белый' , 'зеленый', 'белый']},index=[1,2,3,4])\n",
    "print(df)\n"
   ]
  },
  {
   "cell_type": "code",
   "execution_count": 41,
   "metadata": {},
   "outputs": [
    {
     "data": {
      "text/plain": [
       "array([[0., 0., 1.],\n",
       "       [1., 0., 0.],\n",
       "       [0., 1., 0.],\n",
       "       [1., 0., 0.]])"
      ]
     },
     "execution_count": 41,
     "metadata": {},
     "output_type": "execute_result"
    }
   ],
   "source": [
    "mod.fit_transform(df)"
   ]
  },
  {
   "cell_type": "markdown",
   "metadata": {},
   "source": [
    "как видим каждому объекту соотвутсвует значение признака. и теперь можно данные обрабатывать регрессором"
   ]
  },
  {
   "cell_type": "code",
   "execution_count": null,
   "metadata": {},
   "outputs": [],
   "source": []
  },
  {
   "cell_type": "code",
   "execution_count": null,
   "metadata": {},
   "outputs": [],
   "source": []
  },
  {
   "cell_type": "code",
   "execution_count": null,
   "metadata": {},
   "outputs": [],
   "source": []
  },
  {
   "cell_type": "code",
   "execution_count": null,
   "metadata": {},
   "outputs": [],
   "source": []
  },
  {
   "cell_type": "code",
   "execution_count": null,
   "metadata": {},
   "outputs": [],
   "source": []
  }
 ],
 "metadata": {
  "kernelspec": {
   "display_name": "Python 3",
   "language": "python",
   "name": "python3"
  },
  "language_info": {
   "codemirror_mode": {
    "name": "ipython",
    "version": 3
   },
   "file_extension": ".py",
   "mimetype": "text/x-python",
   "name": "python",
   "nbconvert_exporter": "python",
   "pygments_lexer": "ipython3",
   "version": "3.7.3"
  }
 },
 "nbformat": 4,
 "nbformat_minor": 2
}
