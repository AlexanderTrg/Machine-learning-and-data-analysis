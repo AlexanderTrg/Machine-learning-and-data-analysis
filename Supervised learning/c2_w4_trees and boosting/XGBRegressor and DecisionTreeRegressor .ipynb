{
 "cells": [
  {
   "cell_type": "code",
   "execution_count": 311,
   "metadata": {},
   "outputs": [],
   "source": [
    "from sklearn import ensemble , model_selection, metrics, datasets, tree\n",
    "\n",
    "import numpy as np\n",
    "import pandas as pd\n",
    "from xgboost import XGBRegressor\n"
   ]
  },
  {
   "cell_type": "code",
   "execution_count": 312,
   "metadata": {},
   "outputs": [],
   "source": [
    "ds=datasets.load_boston()"
   ]
  },
  {
   "cell_type": "code",
   "execution_count": 313,
   "metadata": {},
   "outputs": [],
   "source": [
    "X=ds.data"
   ]
  },
  {
   "cell_type": "code",
   "execution_count": 395,
   "metadata": {},
   "outputs": [
    {
     "data": {
      "text/plain": [
       "(506, 13)"
      ]
     },
     "execution_count": 395,
     "metadata": {},
     "output_type": "execute_result"
    }
   ],
   "source": [
    "X.shape"
   ]
  },
  {
   "cell_type": "code",
   "execution_count": 314,
   "metadata": {},
   "outputs": [],
   "source": [
    "y=ds.target"
   ]
  },
  {
   "cell_type": "markdown",
   "metadata": {},
   "source": [
    "В этом задании будет использоваться датасет boston из sklearn.datasets. Оставьте последние 25% объектов для контроля качества, разделив X и y на X_train, y_train и X_test, y_test. **не случайные, поэтому сплитом не пользуемся**"
   ]
  },
  {
   "cell_type": "code",
   "execution_count": 315,
   "metadata": {},
   "outputs": [
    {
     "data": {
      "text/plain": [
       "array([ 17.8667,   0.    ,  18.1   ,   0.    ,   0.671 ,   6.223 ,\n",
       "       100.    ,   1.3861,  24.    , 666.    ,  20.2   , 393.74  ,\n",
       "        21.78  ])"
      ]
     },
     "execution_count": 315,
     "metadata": {},
     "output_type": "execute_result"
    }
   ],
   "source": [
    "X[int(X.shape[0]*0.75)]"
   ]
  },
  {
   "cell_type": "code",
   "execution_count": 409,
   "metadata": {},
   "outputs": [],
   "source": [
    "X_train=X[0:int(X.shape[0]*0.75+0.5),:] # добавил 0,5 для сверки с валидацией по 4-м фолдам. для себя)\n",
    "X_test=X[int(X.shape[0]*0.75+0.5):X.shape[0],:]\n",
    "y_train=y[0:int(y.shape[0]*0.75+0.5)]\n",
    "y_test=y[int(y.shape[0]*0.75+0.5):y.shape[0]]\n"
   ]
  },
  {
   "cell_type": "code",
   "execution_count": 410,
   "metadata": {},
   "outputs": [
    {
     "data": {
      "text/plain": [
       "379.5"
      ]
     },
     "execution_count": 410,
     "metadata": {},
     "output_type": "execute_result"
    }
   ],
   "source": [
    "506*0.75"
   ]
  },
  {
   "cell_type": "code",
   "execution_count": 411,
   "metadata": {},
   "outputs": [
    {
     "name": "stdout",
     "output_type": "stream",
     "text": [
      "(380, 13) (380,) (126, 13) (126,)\n"
     ]
    }
   ],
   "source": [
    "print(X_train.shape, y_train.shape,  X_test.shape, y_test.shape)"
   ]
  },
  {
   "cell_type": "markdown",
   "metadata": {},
   "source": [
    "**Задание 1**\n",
    "\n",
    "Как вы уже знаете из лекций, бустинг - это метод построения композиций базовых алгоритмов с помощью последовательного добавления к текущей композиции нового алгоритма с некоторым коэффициентом. Градиентный бустинг обучает каждый новый алгоритм так, чтобы он приближал антиградиент ошибки по ответам композиции на обучающей выборке. Аналогично минимизации функций методом градиентного спуска, в градиентном бустинге мы подправляем композицию, изменяя алгоритм в направлении антиградиента ошибки. Воспользуйтесь формулой из лекций, задающей ответы на обучающей выборке, на которые нужно обучать новый алгоритм (фактически это лишь чуть более подробно расписанный градиент от ошибки), и получите частный ее случай, если функция потерь L - квадрат отклонения ответа композиции a(x) от правильного ответа y на данном x.\n",
    "\n",
    "Если вы давно не считали производную самостоятельно, вам поможет таблица производных элементарных функций (которую несложно найти в интернете) и правило дифференцирования сложной функции. После дифференцирования квадрата у вас возникнет множитель 2 — т.к. нам все равно предстоит выбирать коэффициент, с которым будет добавлен новый базовый алгоритм, проигноируйте этот множитель при дальнейшем построении алгоритма.\n",
    "\n",
    "L(y, z) = (y - z)^2   \n",
    "L' (y, z) = 2(z - y) = > (z - y)"
   ]
  },
  {
   "cell_type": "markdown",
   "metadata": {},
   "source": [
    "**Задание 2**\n",
    "\n",
    "Заведите массив для объектов DecisionTreeRegressor (будем их использовать в качестве базовых алгоритмов) и для вещественных чисел (это будут коэффициенты перед базовыми алгоритмами). В цикле обучите последовательно 50 решающих деревьев с параметрами max_depth=5 и random_state=42 (остальные параметры - по умолчанию). В бустинге зачастую используются сотни и тысячи деревьев, но мы ограничимся 50, чтобы алгоритм работал быстрее, и его было проще отлаживать (т.к. цель задания разобраться, как работает метод). Каждое дерево должно обучаться на одном и том же множестве объектов, но ответы, которые учится прогнозировать дерево, будут меняться в соответствие с полученным в задании 1 правилом. Попробуйте для начала всегда брать коэффициент равным 0.9. Обычно оправдано выбирать коэффициент значительно меньшим - порядка 0.05 или 0.1, но т.к. в нашем учебном примере на стандартном датасете будет всего 50 деревьев, возьмем для начала шаг побольше.\n",
    "\n",
    "В процессе реализации обучения вам потребуется функция, которая будет вычислять прогноз построенной на данный момент композиции деревьев на выборке X:\n",
    "\n",
    "def gbm_predict(X):\n",
    "    return [sum([coeff * algo.predict([x])[0] for algo, coeff in zip(base_algorithms_list, coefficients_list)]) for x in X]\n",
    "\n",
    "(считаем, что base_algorithms_list - список с базовыми алгоритмами, coefficients_list - список с коэффициентами перед алгоритмами)\n",
    "\n",
    "Эта же функция поможет вам получить прогноз на контрольной выборке и оценить качество работы вашего алгоритма с помощью mean_squared_error в sklearn.metrics. Возведите результат в степень 0.5, чтобы получить RMSE. Полученное значение RMSE — ответ в пункте 2."
   ]
  },
  {
   "cell_type": "code",
   "execution_count": 318,
   "metadata": {},
   "outputs": [],
   "source": [
    "def gbm_predict(X):\n",
    "    return [sum([coeff * algo.predict([x])[0] for algo, coeff in zip(base_algorithms_list, coefficients_list)]) for x in X]\n",
    "# вычисляеm прогноз построенной на ДАННЫЙ момент композиции деревьев на выборке X:"
   ]
  },
  {
   "cell_type": "code",
   "execution_count": 319,
   "metadata": {},
   "outputs": [],
   "source": [
    "base_algorithms_list=[] # массив алгоритмов\n",
    "coefficients_list=[] # массив коэф-ов\n",
    "y_train_new=y_train #прогноз ответов будет меняться ()"
   ]
  },
  {
   "cell_type": "code",
   "execution_count": 320,
   "metadata": {},
   "outputs": [],
   "source": [
    "for i in range(50):\n",
    "    clf = tree.DecisionTreeRegressor(max_depth=5, random_state=42 ) # i-ое дерево\n",
    "    clf.fit(X_train, y_train_new) # обучаем i-ое дерево на постоянных трейн дата и новых прогнозах\n",
    "    base_algorithms_list.append(clf)\n",
    "    coefficients_list.append(0.9)\n",
    "    y_train_new= y_train - gbm_predict(X_train) # Lz' (y, z) = 2(z - y) = > (z - y)/ антиградиент в обратном направлении, значит(y -z)\n",
    "    #каждое дерево учится на одном и том же трейн дата, но овтеты, которое учитмтя прогонозирвоать дерево меняется \n",
    "    #в соотв с правилом y - z (вектор сдвига - на сколько нужно изменить прогноз построенной композиции из рассчета MSE )\n",
    "    "
   ]
  },
  {
   "cell_type": "code",
   "execution_count": 321,
   "metadata": {
    "collapsed": true
   },
   "outputs": [
    {
     "data": {
      "text/plain": [
       "[14.078512377151387,\n",
       " 15.487864741644504,\n",
       " 14.136095980085559,\n",
       " 15.70622156457914,\n",
       " 15.114453412890779,\n",
       " 17.07854208356322,\n",
       " 15.362942072716775,\n",
       " 15.37267130144825,\n",
       " 17.7413131702385,\n",
       " 15.41355768446859,\n",
       " 14.45699457092895,\n",
       " 15.773972215147948,\n",
       " 18.31221942559419,\n",
       " 15.413900779184765,\n",
       " 21.658881284367094,\n",
       " 16.375248741129354,\n",
       " 14.998938845848151,\n",
       " 14.063185553087875,\n",
       " 15.155909404482527,\n",
       " 16.066291931469827,\n",
       " 17.779401628905653,\n",
       " 15.736423492039814,\n",
       " 13.876935518260238,\n",
       " 14.073808950752515,\n",
       " 15.44217197159099,\n",
       " 16.870344926894024,\n",
       " 16.29958793375683,\n",
       " 14.102480329532995,\n",
       " 21.489864331787242,\n",
       " 14.901617741099555,\n",
       " 13.881487296713086,\n",
       " 21.86331818035528,\n",
       " 13.115910432467068,\n",
       " 14.903547188737402,\n",
       " 14.949671134442092,\n",
       " 14.874090294938341,\n",
       " 13.147139072774758,\n",
       " 13.762799337308795,\n",
       " 17.15169769566357,\n",
       " 15.069581084699534,\n",
       " 16.257778461936994,\n",
       " 19.334623305674825,\n",
       " 19.773139751183404,\n",
       " 22.14869762430449,\n",
       " 15.834009014545117,\n",
       " 19.769742934156348,\n",
       " 15.098792367856783,\n",
       " 23.504167645204696,\n",
       " 22.91850406060652,\n",
       " 16.844401532227458,\n",
       " 13.045227138019893,\n",
       " 16.113142011225694,\n",
       " 14.02891825285617,\n",
       " 25.8376099219982,\n",
       " 16.604208199672275,\n",
       " 20.9564522062266,\n",
       " 13.889376125971165,\n",
       " 13.586878437224499,\n",
       " 14.807850552264439,\n",
       " 16.1779078539255,\n",
       " 17.26126985996083,\n",
       " 16.13939350465257,\n",
       " 15.546197184496979,\n",
       " 15.183581339078408,\n",
       " 15.687026395326352,\n",
       " 15.4450157625488,\n",
       " 13.139063234247507,\n",
       " 15.344360717204422,\n",
       " 16.688128127211392,\n",
       " 15.837689901594562,\n",
       " 15.451871829252386,\n",
       " 15.446533536532248,\n",
       " 16.38875829858813,\n",
       " 16.362753762174854,\n",
       " 31.23746623849797,\n",
       " 14.198455134027146,\n",
       " 16.47641950565943,\n",
       " 17.203240014694746,\n",
       " 18.56978037303268,\n",
       " 16.674251165756875,\n",
       " 22.039314882374995,\n",
       " 15.750342681979697,\n",
       " 22.00848643623292,\n",
       " 22.12243027064086,\n",
       " 23.1900831250506,\n",
       " 24.57690619699255,\n",
       " 22.808996719088857,\n",
       " 16.93761594578109,\n",
       " 15.192386236723149,\n",
       " 19.741512889725996,\n",
       " 23.845485373669643,\n",
       " 16.76063113783152,\n",
       " 23.642547717604806,\n",
       " 23.137931536884153,\n",
       " 36.17009781541232,\n",
       " 15.839359474245704,\n",
       " 15.23856820524691,\n",
       " 15.320215844719877,\n",
       " 15.728321448056999,\n",
       " 17.06136505507882,\n",
       " 24.304178724164004,\n",
       " 24.503532718471906,\n",
       " 29.8127221443728,\n",
       " 33.98544786703751,\n",
       " 22.968539454462594,\n",
       " 23.74194162427092,\n",
       " 22.75461215133893,\n",
       " 24.621271991997762,\n",
       " 23.442748988476612,\n",
       " 18.510952923585716,\n",
       " 15.34024163310725,\n",
       " 14.901263023044732,\n",
       " 16.201732687236895,\n",
       " 17.4161433162418,\n",
       " 19.567930387735554,\n",
       " 17.751839840836695,\n",
       " 18.729421065568,\n",
       " 20.991195302811455,\n",
       " 20.24735196421829,\n",
       " 19.74885457011809,\n",
       " 20.49982294322327,\n",
       " 20.011239570760786,\n",
       " 29.21884243416691,\n",
       " 17.767605822289738,\n",
       " 30.111656551674166,\n",
       " 29.583726019310802,\n",
       " 17.20758958276129]"
      ]
     },
     "execution_count": 321,
     "metadata": {},
     "output_type": "execute_result"
    }
   ],
   "source": [
    "gbm_predict(X_test)"
   ]
  },
  {
   "cell_type": "code",
   "execution_count": 322,
   "metadata": {},
   "outputs": [
    {
     "data": {
      "text/plain": [
       "5.455565103009407"
      ]
     },
     "execution_count": 322,
     "metadata": {},
     "output_type": "execute_result"
    }
   ],
   "source": [
    "np.sqrt(metrics.mean_squared_error(y_test, gbm_predict(X_test)))"
   ]
  },
  {
   "cell_type": "code",
   "execution_count": 141,
   "metadata": {},
   "outputs": [],
   "source": [
    "with open(\"answer2.txt\", \"w\") as fout:\n",
    "    fout.write(\"\".join(str(np.sqrt(metrics.mean_squared_error(y_test, gbm_predict(X_test))))))"
   ]
  },
  {
   "cell_type": "markdown",
   "metadata": {},
   "source": [
    "**Задание 3**\n",
    "\n",
    "Вас может также беспокоить, что при движении с постоянным шагом вблизи минимума ошибки ответы на обучающей выборке меняются слишком резко, перескакивая через минимум. Попробуйте уменьшать вес перед каждым алгоритмом с каждой следующей итерацией по формуле 0.9 / (1.0 + i), где i - номер итерации (от 0 до 49). Используйте качество работы алгоритма как ответ в пункте 3. В реальности часто применяется следующая стратегия выбора шага: как только выбран алгоритм, подберем коэффициент перед ним численным методом оптимизации таким образом, чтобы отклонение от правильных ответов было минимальным. Мы не будем предлагать вам реализовать это для выполнения задания, но рекомендуем попробовать разобраться с такой стратегией и реализовать ее при случае для себя."
   ]
  },
  {
   "cell_type": "code",
   "execution_count": 323,
   "metadata": {},
   "outputs": [],
   "source": [
    "base_algorithms_list=[] # массив алгоритмов\n",
    "coefficients_list=[] # массив коэф-ов перед алг-ми / шагов в град спуске\n",
    "y_train_new=y_train #прогноз ответов будет меняться ()"
   ]
  },
  {
   "cell_type": "code",
   "execution_count": 324,
   "metadata": {},
   "outputs": [],
   "source": [
    "for i in range(50):\n",
    "    clf = tree.DecisionTreeRegressor(max_depth=5, random_state=42 ) # i-ое дерево\n",
    "    clf.fit(X_train, y_train_new) # обучаем i-ое дерево на постоянных трейн дата и новых прогнозах\n",
    "    base_algorithms_list.append(clf)\n",
    "    coefficients_list.append(0.9 / (1.0 + i))\n",
    "    y_train_new=y_train - gbm_predict(X_train) # Lz' (y, z) = 2(z - y) = > (z - y)\n",
    "    #каждое дерево учится на одном и том же трейн дата, но овтеты, которое учитмтя прогонозирвоать дерево меняется \n",
    "    #в соотв с правилом y - z (вектор сдвига - на сколько нужно изменить прогноз построенной композиции из рассчета MSE )\n",
    "    "
   ]
  },
  {
   "cell_type": "code",
   "execution_count": 325,
   "metadata": {},
   "outputs": [
    {
     "data": {
      "text/plain": [
       "4.812550945781194"
      ]
     },
     "execution_count": 325,
     "metadata": {},
     "output_type": "execute_result"
    }
   ],
   "source": [
    "np.sqrt(metrics.mean_squared_error(y_test, gbm_predict(X_test)))"
   ]
  },
  {
   "cell_type": "code",
   "execution_count": 202,
   "metadata": {},
   "outputs": [],
   "source": [
    "with open(\"answer3.txt\", \"w\") as fout:\n",
    "    fout.write(\"\".join(str(np.sqrt(metrics.mean_squared_error(y_test, gbm_predict(X_test))))))"
   ]
  },
  {
   "cell_type": "markdown",
   "metadata": {},
   "source": [
    "Обратите внимание, что более аккуратный выбор шага позволил понизить RMSE на тестовой выборке (если нет - попробуйте перезапустить алгоритм несколько раз - в среднем качество должно было улучшиться). Однако не стоит относиться к этому результату слишком доверчиво - небольшие изменения в формуле вычисления величины шага могут легко \"сломать\" этот эффект. Выбор хорошего шага в градиентном спуске всегда достаточно непростой вопрос - остается только порадоваться, что почти всегда можно использовать готовые реализации из библиотек."
   ]
  },
  {
   "cell_type": "markdown",
   "metadata": {},
   "source": [
    "**Задание 4**\n",
    "\n",
    "Реализованный вами метод - градиентный бустинг над деревьями - очень популярен в машинном обучении. Он представлен как в самой библиотеке sklearn, так и в сторонней библиотеке XGBoost, которая имеет свой питоновский интерфейс. На практике XGBoost работает заметно лучше GradientBoostingRegressor из sklearn, но для этого задания вы можете использовать любую реализацию. Исследуйте, переобучается ли градиентный бустинг с ростом числа итераций (и подумайте, почему), а также с ростом глубины деревьев. На основе наблюдений выпишите через пробел номера правильных из приведенных ниже утверждений в порядке возрастания номера (это будет ответ в п.4):\n",
    "\n",
    "1) С увеличением числа деревьев, начиная с некоторого момента, качество работы градиентного бустинга не меняется существенно - \n",
    "\n",
    "2) С увеличением числа деревьев, начиная с некоторого момента, градиентный бустинг начинает переобучаться. - **ДА**\n",
    "\n",
    "3) С ростом глубины деревьев, начиная с некоторого момента, качество работы градиентного бустинга на тестовой выборке начинает ухудшаться - **ДА**\n",
    "\n",
    "4) С ростом глубины деревьев, начиная с некоторого момента, качество работы градиентного бустинга перестает существенно изменяться "
   ]
  },
  {
   "cell_type": "code",
   "execution_count": 412,
   "metadata": {},
   "outputs": [],
   "source": [
    "xgb=XGBRegressor(objective ='reg:squarederror',  n_estimators=20).fit(X_train,y_train)\n",
    "# создаем  модель бустинга над деревьями(50 шт) и обучаем на обуч. выбоорке\n"
   ]
  },
  {
   "cell_type": "code",
   "execution_count": 413,
   "metadata": {},
   "outputs": [],
   "source": [
    "pred=xgb.predict(X_test) # предикт на X тест"
   ]
  },
  {
   "cell_type": "code",
   "execution_count": 414,
   "metadata": {},
   "outputs": [
    {
     "data": {
      "text/plain": [
       "18.97749997278475"
      ]
     },
     "execution_count": 414,
     "metadata": {},
     "output_type": "execute_result"
    }
   ],
   "source": [
    "metrics.mean_squared_error(y_test, pred) # сред. квадр. отклонение предикта от ответа на тестовой выборке"
   ]
  },
  {
   "cell_type": "code",
   "execution_count": 386,
   "metadata": {},
   "outputs": [
    {
     "data": {
      "text/plain": [
       "array([ 9.28085186, 45.54413341, 57.33438268, 18.97749997])"
      ]
     },
     "execution_count": 386,
     "metadata": {},
     "output_type": "execute_result"
    }
   ],
   "source": [
    "- model_selection.cross_val_score(XGBRegressor(objective ='reg:squarederror',  n_estimators=20), \n",
    "                                X,y, scoring='neg_mean_squared_error',cv=4)"
   ]
  },
  {
   "cell_type": "code",
   "execution_count": 377,
   "metadata": {},
   "outputs": [
    {
     "data": {
      "text/plain": [
       "5.096821124436179"
      ]
     },
     "execution_count": 377,
     "metadata": {},
     "output_type": "execute_result"
    }
   ],
   "source": [
    "MSE**0.5"
   ]
  },
  {
   "cell_type": "code",
   "execution_count": 365,
   "metadata": {},
   "outputs": [
    {
     "data": {
      "text/plain": [
       "array([-15.31407852, -65.2643038 , -46.22492424])"
      ]
     },
     "execution_count": 365,
     "metadata": {},
     "output_type": "execute_result"
    }
   ],
   "source": [
    "model_selection.cross_val_score(XGBRegressor(objective ='reg:squarederror',  n_estimators=20), \n",
    "                                X,y, scoring='neg_mean_squared_error',cv=3)"
   ]
  },
  {
   "cell_type": "code",
   "execution_count": 392,
   "metadata": {},
   "outputs": [
    {
     "data": {
      "text/plain": [
       "[<matplotlib.lines.Line2D at 0x1e79c0cfeb8>]"
      ]
     },
     "execution_count": 392,
     "metadata": {},
     "output_type": "execute_result"
    },
    {
     "data": {
      "image/png": "[encoded data removed]",
      "text/plain": [
       "<Figure size 432x288 with 1 Axes>"
      ]
     },
     "metadata": {
      "needs_background": "light"
     },
     "output_type": "display_data"
    }
   ],
   "source": [
    "k=np.arange(2,100)\n",
    "pylab.plot(k, [- model_selection.cross_val_score(XGBRegressor(objective ='reg:squarederror',  n_estimators=20), \n",
    "                                X,y, scoring='neg_mean_squared_error',cv=i).mean() for i in k])"
   ]
  },
  {
   "cell_type": "code",
   "execution_count": 330,
   "metadata": {},
   "outputs": [
    {
     "data": {
      "text/plain": [
       "4.33932954940189"
      ]
     },
     "execution_count": 330,
     "metadata": {},
     "output_type": "execute_result"
    }
   ],
   "source": [
    "np.sqrt(metrics.mean_squared_error(y_test,xgb.predict(X_test)))"
   ]
  },
  {
   "cell_type": "code",
   "execution_count": 363,
   "metadata": {},
   "outputs": [
    {
     "data": {
      "text/plain": [
       "Text(0, 0.5, 'RMSE')"
      ]
     },
     "execution_count": 363,
     "metadata": {},
     "output_type": "execute_result"
    },
    {
     "data": {
      "image/png": "[encoded data removed]",
      "text/plain": [
       "<Figure size 432x288 with 1 Axes>"
      ]
     },
     "metadata": {
      "needs_background": "light"
     },
     "output_type": "display_data"
    }
   ],
   "source": [
    "trees = np.arange(5,400,5)\n",
    "depth=np.arange(1,50)\n",
    "train_scores = []\n",
    "test_scores = []\n",
    "\n",
    "for i in trees:\n",
    "    \n",
    "    clf = XGBRegressor(objective ='reg:squarederror',  n_estimators=i)\n",
    "    clf.fit(X_train, y_train)\n",
    "    train_scores.append(metrics.mean_squared_error(y_train, clf.predict(X_train))**0.5)\n",
    "    test_scores.append(metrics.mean_squared_error(y_test, clf.predict(X_test))**0.5)\n",
    "\n",
    "pylab.grid(True)\n",
    "pylab.plot(trees, train_scores, color = 'red', label='train')\n",
    "pylab.plot(trees, test_scores, label='test') \n",
    "pylab.legend(loc='upper right')\n",
    "pylab.xlabel('iterations')\n",
    "pylab.ylabel('RMSE')"
   ]
  },
  {
   "cell_type": "markdown",
   "metadata": {},
   "source": [
    "**как видно, на тесте RMSE сильно больше чем на трейне и не падает, зн-ит переобчение**"
   ]
  },
  {
   "cell_type": "code",
   "execution_count": 364,
   "metadata": {},
   "outputs": [
    {
     "data": {
      "text/plain": [
       "Text(0, 0.5, 'RMSE')"
      ]
     },
     "execution_count": 364,
     "metadata": {},
     "output_type": "execute_result"
    },
    {
     "data": {
      "image/png": "[encoded data removed]",
      "text/plain": [
       "<Figure size 432x288 with 1 Axes>"
      ]
     },
     "metadata": {
      "needs_background": "light"
     },
     "output_type": "display_data"
    }
   ],
   "source": [
    "train_scores = []\n",
    "test_scores = []\n",
    "\n",
    "for i in depth:\n",
    "    \n",
    "    clf = XGBRegressor(objective ='reg:squarederror',  n_estimators=20, max_depth=i)\n",
    "    clf.fit(X_train, y_train)\n",
    "    train_scores.append(metrics.mean_squared_error(y_train, clf.predict(X_train))**0.5)\n",
    "    test_scores.append(metrics.mean_squared_error(y_test, clf.predict(X_test))**0.5)\n",
    "\n",
    "pylab.grid(True)\n",
    "pylab.plot(depth, train_scores, color = 'red', label='train')\n",
    "pylab.plot(depth, test_scores, label='test') \n",
    "pylab.legend(loc='upper right')\n",
    "pylab.xlabel('depth')\n",
    "pylab.ylabel('RMSE')"
   ]
  },
  {
   "cell_type": "code",
   "execution_count": 340,
   "metadata": {},
   "outputs": [],
   "source": [
    "with open(\"answer4.txt\", \"w\") as fout:\n",
    "    fout.write(\" \".join(str(23)))"
   ]
  },
  {
   "cell_type": "markdown",
   "metadata": {},
   "source": [
    "**Задание 5**\n",
    "\n",
    "Сравните получаемое с помощью градиентного бустинга качество с качеством работы линейной регрессии. Для этого обучите LinearRegression из sklearn.linear_model (с параметрами по умолчанию) на обучающей выборке и оцените для прогнозов полученного алгоритма на тестовой выборке RMSE. Полученное качество - ответ в пункте 5. В данном примере качество работы простой модели должно было оказаться хуже, но не стоит забывать, что так бывает не всегда. В заданиях к этому курсу вы еще встретите пример обратной ситуации.\n",
    "\n"
   ]
  },
  {
   "cell_type": "code",
   "execution_count": 335,
   "metadata": {},
   "outputs": [],
   "source": [
    "from sklearn import linear_model"
   ]
  },
  {
   "cell_type": "code",
   "execution_count": 336,
   "metadata": {},
   "outputs": [],
   "source": [
    "est= linear_model.LinearRegression().fit(X_train,y_train)"
   ]
  },
  {
   "cell_type": "code",
   "execution_count": 337,
   "metadata": {},
   "outputs": [],
   "source": [
    "pred=est.predict(X_test)"
   ]
  },
  {
   "cell_type": "code",
   "execution_count": 341,
   "metadata": {},
   "outputs": [
    {
     "data": {
      "text/plain": [
       "8.254979753549161"
      ]
     },
     "execution_count": 341,
     "metadata": {},
     "output_type": "execute_result"
    }
   ],
   "source": [
    "metrics.mean_squared_error(y_test,pred)**0.5"
   ]
  },
  {
   "cell_type": "code",
   "execution_count": 343,
   "metadata": {},
   "outputs": [],
   "source": [
    "with open(\"answer5.txt\", \"w\") as fout:\n",
    "    fout.write(\"\".join(str(metrics.mean_squared_error(y_test,pred)**0.5)))"
   ]
  },
  {
   "cell_type": "markdown",
   "metadata": {},
   "source": [
    "качество работы простого метода (линейной регрессии) оказалось хуже. Этот результат в некоторой степени завораживает: всего 1 деревьев, каждое из которых в каждом своем листе оценивает целевую зависимость некоторой константой, уже решили задачу регрессии лучше, чем линейная модель."
   ]
  },
  {
   "cell_type": "code",
   "execution_count": null,
   "metadata": {},
   "outputs": [],
   "source": []
  }
 ],
 "metadata": {
  "kernelspec": {
   "display_name": "Python 3",
   "language": "python",
   "name": "python3"
  },
  "language_info": {
   "codemirror_mode": {
    "name": "ipython",
    "version": 3
   },
   "file_extension": ".py",
   "mimetype": "text/x-python",
   "name": "python",
   "nbconvert_exporter": "python",
   "pygments_lexer": "ipython3",
   "version": "3.7.3"
  }
 },
 "nbformat": 4,
 "nbformat_minor": 2
}
